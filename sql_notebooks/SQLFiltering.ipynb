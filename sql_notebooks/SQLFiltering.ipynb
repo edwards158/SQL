{
 "cells": [
  {
   "cell_type": "markdown",
   "metadata": {},
   "source": [
    "## Filtering rows\n",
    "\n",
    "Basic operations on several tables in a sql database:\n",
    "- select\n",
    "- count\n",
    "- distinct\n",
    "- where and\n",
    "- where and or\n",
    "- between\n",
    "- where in\n",
    "- null\n",
    "- like and not like\n"
   ]
  },
  {
   "cell_type": "code",
   "execution_count": 1,
   "metadata": {},
   "outputs": [],
   "source": [
    "%load_ext sql"
   ]
  },
  {
   "cell_type": "code",
   "execution_count": 2,
   "metadata": {},
   "outputs": [
    {
     "data": {
      "text/plain": [
       "'Connected: @imdb.db'"
      ]
     },
     "execution_count": 2,
     "metadata": {},
     "output_type": "execute_result"
    }
   ],
   "source": [
    "%sql sqlite:///imdb.db"
   ]
  },
  {
   "cell_type": "markdown",
   "metadata": {},
   "source": [
    "List tables in db"
   ]
  },
  {
   "cell_type": "code",
   "execution_count": 3,
   "metadata": {},
   "outputs": [
    {
     "name": "stdout",
     "output_type": "stream",
     "text": [
      " * sqlite:///imdb.db\n",
      "Done.\n"
     ]
    },
    {
     "data": {
      "text/html": [
       "<table>\n",
       "    <tr>\n",
       "        <th>name</th>\n",
       "    </tr>\n",
       "    <tr>\n",
       "        <td>films</td>\n",
       "    </tr>\n",
       "    <tr>\n",
       "        <td>people</td>\n",
       "    </tr>\n",
       "    <tr>\n",
       "        <td>reviews</td>\n",
       "    </tr>\n",
       "    <tr>\n",
       "        <td>roles</td>\n",
       "    </tr>\n",
       "</table>"
      ],
      "text/plain": [
       "[('films',), ('people',), ('reviews',), ('roles',)]"
      ]
     },
     "execution_count": 3,
     "metadata": {},
     "output_type": "execute_result"
    }
   ],
   "source": [
    "%sql select name from sqlite_master where type = 'table'"
   ]
  },
  {
   "cell_type": "markdown",
   "metadata": {},
   "source": [
    "## Filtering Rows"
   ]
  },
  {
   "cell_type": "code",
   "execution_count": 6,
   "metadata": {},
   "outputs": [
    {
     "name": "stdout",
     "output_type": "stream",
     "text": [
      " * sqlite:///imdb.db\n",
      "Done.\n"
     ]
    },
    {
     "data": {
      "text/html": [
       "<table>\n",
       "    <tr>\n",
       "        <th>id</th>\n",
       "        <th>title</th>\n",
       "        <th>release_year</th>\n",
       "        <th>country</th>\n",
       "        <th>duration</th>\n",
       "        <th>language</th>\n",
       "        <th>certification</th>\n",
       "        <th>gross</th>\n",
       "        <th>budget</th>\n",
       "    </tr>\n",
       "    <tr>\n",
       "        <td>1</td>\n",
       "        <td>Intolerance: Love&#x27;s Struggle Throughout the Ages</td>\n",
       "        <td>1916</td>\n",
       "        <td>USA</td>\n",
       "        <td>123</td>\n",
       "        <td>None</td>\n",
       "        <td>Not Rated</td>\n",
       "        <td>None</td>\n",
       "        <td>385907</td>\n",
       "    </tr>\n",
       "    <tr>\n",
       "        <td>2</td>\n",
       "        <td>Over the Hill to the Poorhouse</td>\n",
       "        <td>1920</td>\n",
       "        <td>USA</td>\n",
       "        <td>110</td>\n",
       "        <td>None</td>\n",
       "        <td>None</td>\n",
       "        <td>3000000</td>\n",
       "        <td>100000</td>\n",
       "    </tr>\n",
       "    <tr>\n",
       "        <td>3</td>\n",
       "        <td>The Big Parade</td>\n",
       "        <td>1925</td>\n",
       "        <td>USA</td>\n",
       "        <td>151</td>\n",
       "        <td>None</td>\n",
       "        <td>Not Rated</td>\n",
       "        <td>None</td>\n",
       "        <td>245000</td>\n",
       "    </tr>\n",
       "    <tr>\n",
       "        <td>4</td>\n",
       "        <td>Metropolis</td>\n",
       "        <td>1927</td>\n",
       "        <td>Germany</td>\n",
       "        <td>145</td>\n",
       "        <td>German</td>\n",
       "        <td>Not Rated</td>\n",
       "        <td>26435</td>\n",
       "        <td>6000000</td>\n",
       "    </tr>\n",
       "    <tr>\n",
       "        <td>5</td>\n",
       "        <td>Pandora&#x27;s Box</td>\n",
       "        <td>1929</td>\n",
       "        <td>Germany</td>\n",
       "        <td>110</td>\n",
       "        <td>German</td>\n",
       "        <td>Not Rated</td>\n",
       "        <td>9950</td>\n",
       "        <td>None</td>\n",
       "    </tr>\n",
       "</table>"
      ],
      "text/plain": [
       "[(1, \"Intolerance: Love's Struggle Throughout the Ages\", 1916, 'USA', 123, None, 'Not Rated', None, 385907),\n",
       " (2, 'Over the Hill to the Poorhouse', 1920, 'USA', 110, None, None, 3000000, 100000),\n",
       " (3, 'The Big Parade', 1925, 'USA', 151, None, 'Not Rated', None, 245000),\n",
       " (4, 'Metropolis', 1927, 'Germany', 145, 'German', 'Not Rated', 26435, 6000000),\n",
       " (5, \"Pandora's Box\", 1929, 'Germany', 110, 'German', 'Not Rated', 9950, None)]"
      ]
     },
     "execution_count": 6,
     "metadata": {},
     "output_type": "execute_result"
    }
   ],
   "source": [
    "%sql select * from films limit 5;"
   ]
  },
  {
   "cell_type": "code",
   "execution_count": 7,
   "metadata": {},
   "outputs": [
    {
     "name": "stdout",
     "output_type": "stream",
     "text": [
      " * sqlite:///imdb.db\n",
      "Done.\n"
     ]
    },
    {
     "data": {
      "text/html": [
       "<table>\n",
       "    <tr>\n",
       "        <th>id</th>\n",
       "        <th>name</th>\n",
       "        <th>birthdate</th>\n",
       "        <th>deathdate</th>\n",
       "    </tr>\n",
       "    <tr>\n",
       "        <td>1</td>\n",
       "        <td>50 Cent</td>\n",
       "        <td>1975-07-06</td>\n",
       "        <td>None</td>\n",
       "    </tr>\n",
       "    <tr>\n",
       "        <td>2</td>\n",
       "        <td>A. Michael Baldwin</td>\n",
       "        <td>1963-04-04</td>\n",
       "        <td>None</td>\n",
       "    </tr>\n",
       "    <tr>\n",
       "        <td>3</td>\n",
       "        <td>A. Raven Cruz</td>\n",
       "        <td>None</td>\n",
       "        <td>None</td>\n",
       "    </tr>\n",
       "    <tr>\n",
       "        <td>4</td>\n",
       "        <td>A.J. Buckley</td>\n",
       "        <td>1978-02-09</td>\n",
       "        <td>None</td>\n",
       "    </tr>\n",
       "    <tr>\n",
       "        <td>5</td>\n",
       "        <td>A.J. DeLucia</td>\n",
       "        <td>None</td>\n",
       "        <td>None</td>\n",
       "    </tr>\n",
       "</table>"
      ],
      "text/plain": [
       "[(1, '50 Cent', '1975-07-06', None),\n",
       " (2, 'A. Michael Baldwin', '1963-04-04', None),\n",
       " (3, 'A. Raven Cruz', None, None),\n",
       " (4, 'A.J. Buckley', '1978-02-09', None),\n",
       " (5, 'A.J. DeLucia', None, None)]"
      ]
     },
     "execution_count": 7,
     "metadata": {},
     "output_type": "execute_result"
    }
   ],
   "source": [
    "%sql select * from people limit 5;"
   ]
  },
  {
   "cell_type": "code",
   "execution_count": 8,
   "metadata": {},
   "outputs": [
    {
     "name": "stdout",
     "output_type": "stream",
     "text": [
      " * sqlite:///imdb.db\n",
      "Done.\n"
     ]
    },
    {
     "data": {
      "text/html": [
       "<table>\n",
       "    <tr>\n",
       "        <th>id</th>\n",
       "        <th>film_id</th>\n",
       "        <th>person_id</th>\n",
       "        <th>role</th>\n",
       "    </tr>\n",
       "    <tr>\n",
       "        <td>1</td>\n",
       "        <td>1</td>\n",
       "        <td>1630</td>\n",
       "        <td>director</td>\n",
       "    </tr>\n",
       "    <tr>\n",
       "        <td>2</td>\n",
       "        <td>1</td>\n",
       "        <td>4843</td>\n",
       "        <td>actor</td>\n",
       "    </tr>\n",
       "    <tr>\n",
       "        <td>3</td>\n",
       "        <td>1</td>\n",
       "        <td>5050</td>\n",
       "        <td>actor</td>\n",
       "    </tr>\n",
       "    <tr>\n",
       "        <td>4</td>\n",
       "        <td>1</td>\n",
       "        <td>8175</td>\n",
       "        <td>actor</td>\n",
       "    </tr>\n",
       "    <tr>\n",
       "        <td>5</td>\n",
       "        <td>2</td>\n",
       "        <td>3000</td>\n",
       "        <td>director</td>\n",
       "    </tr>\n",
       "</table>"
      ],
      "text/plain": [
       "[(1, 1, 1630, 'director'),\n",
       " (2, 1, 4843, 'actor'),\n",
       " (3, 1, 5050, 'actor'),\n",
       " (4, 1, 8175, 'actor'),\n",
       " (5, 2, 3000, 'director')]"
      ]
     },
     "execution_count": 8,
     "metadata": {},
     "output_type": "execute_result"
    }
   ],
   "source": [
    "%sql select * from roles limit 5;"
   ]
  },
  {
   "cell_type": "code",
   "execution_count": 9,
   "metadata": {},
   "outputs": [
    {
     "name": "stdout",
     "output_type": "stream",
     "text": [
      " * sqlite:///imdb.db\n",
      "Done.\n"
     ]
    },
    {
     "data": {
      "text/html": [
       "<table>\n",
       "    <tr>\n",
       "        <th>id</th>\n",
       "        <th>film_id</th>\n",
       "        <th>num_user</th>\n",
       "        <th>num_critic</th>\n",
       "        <th>imdb_score</th>\n",
       "        <th>num_votes</th>\n",
       "        <th>facebook_likes</th>\n",
       "    </tr>\n",
       "    <tr>\n",
       "        <td>1</td>\n",
       "        <td>3934</td>\n",
       "        <td>588</td>\n",
       "        <td>432</td>\n",
       "        <td>7.1</td>\n",
       "        <td>203461</td>\n",
       "        <td>46000</td>\n",
       "    </tr>\n",
       "    <tr>\n",
       "        <td>2</td>\n",
       "        <td>3405</td>\n",
       "        <td>285</td>\n",
       "        <td>267</td>\n",
       "        <td>6.4</td>\n",
       "        <td>149998</td>\n",
       "        <td>0</td>\n",
       "    </tr>\n",
       "    <tr>\n",
       "        <td>3</td>\n",
       "        <td>478</td>\n",
       "        <td>65</td>\n",
       "        <td>29</td>\n",
       "        <td>3.2</td>\n",
       "        <td>8465</td>\n",
       "        <td>491</td>\n",
       "    </tr>\n",
       "    <tr>\n",
       "        <td>4</td>\n",
       "        <td>74</td>\n",
       "        <td>83</td>\n",
       "        <td>25</td>\n",
       "        <td>7.6</td>\n",
       "        <td>7071</td>\n",
       "        <td>930</td>\n",
       "    </tr>\n",
       "    <tr>\n",
       "        <td>5</td>\n",
       "        <td>1254</td>\n",
       "        <td>1437</td>\n",
       "        <td>224</td>\n",
       "        <td>8.0</td>\n",
       "        <td>241030</td>\n",
       "        <td>13000</td>\n",
       "    </tr>\n",
       "</table>"
      ],
      "text/plain": [
       "[(1, 3934, 588, 432, 7.1, 203461, 46000),\n",
       " (2, 3405, 285, 267, 6.4, 149998, 0),\n",
       " (3, 478, 65, 29, 3.2, 8465, 491),\n",
       " (4, 74, 83, 25, 7.6, 7071, 930),\n",
       " (5, 1254, 1437, 224, 8.0, 241030, 13000)]"
      ]
     },
     "execution_count": 9,
     "metadata": {},
     "output_type": "execute_result"
    }
   ],
   "source": [
    "%sql select * from reviews limit 5;\n"
   ]
  },
  {
   "cell_type": "markdown",
   "metadata": {},
   "source": [
    "whos is the first person in films table?"
   ]
  },
  {
   "cell_type": "code",
   "execution_count": 14,
   "metadata": {},
   "outputs": [
    {
     "name": "stdout",
     "output_type": "stream",
     "text": [
      " * sqlite:///imdb.db\n",
      "Done.\n"
     ]
    },
    {
     "data": {
      "text/html": [
       "<table>\n",
       "    <tr>\n",
       "        <th>name</th>\n",
       "    </tr>\n",
       "    <tr>\n",
       "        <td>50 Cent</td>\n",
       "    </tr>\n",
       "</table>"
      ],
      "text/plain": [
       "[('50 Cent',)]"
      ]
     },
     "execution_count": 14,
     "metadata": {},
     "output_type": "execute_result"
    }
   ],
   "source": [
    "%sql select name from people limit 1;"
   ]
  },
  {
   "cell_type": "markdown",
   "metadata": {},
   "source": [
    "Get the title and relase year of every film from the films table.\n"
   ]
  },
  {
   "cell_type": "code",
   "execution_count": 17,
   "metadata": {},
   "outputs": [
    {
     "name": "stdout",
     "output_type": "stream",
     "text": [
      " * sqlite:///imdb.db\n",
      "Done.\n"
     ]
    },
    {
     "data": {
      "text/html": [
       "<table>\n",
       "    <tr>\n",
       "        <th>title</th>\n",
       "        <th>release_year</th>\n",
       "    </tr>\n",
       "    <tr>\n",
       "        <td>Intolerance: Love&#x27;s Struggle Throughout the Ages</td>\n",
       "        <td>1916</td>\n",
       "    </tr>\n",
       "    <tr>\n",
       "        <td>Over the Hill to the Poorhouse</td>\n",
       "        <td>1920</td>\n",
       "    </tr>\n",
       "    <tr>\n",
       "        <td>The Big Parade</td>\n",
       "        <td>1925</td>\n",
       "    </tr>\n",
       "    <tr>\n",
       "        <td>Metropolis</td>\n",
       "        <td>1927</td>\n",
       "    </tr>\n",
       "    <tr>\n",
       "        <td>Pandora&#x27;s Box</td>\n",
       "        <td>1929</td>\n",
       "    </tr>\n",
       "    <tr>\n",
       "        <td>The Broadway Melody</td>\n",
       "        <td>1929</td>\n",
       "    </tr>\n",
       "    <tr>\n",
       "        <td>Hell&#x27;s Angels</td>\n",
       "        <td>1930</td>\n",
       "    </tr>\n",
       "    <tr>\n",
       "        <td>A Farewell to Arms</td>\n",
       "        <td>1932</td>\n",
       "    </tr>\n",
       "    <tr>\n",
       "        <td>42nd Street</td>\n",
       "        <td>1933</td>\n",
       "    </tr>\n",
       "    <tr>\n",
       "        <td>She Done Him Wrong</td>\n",
       "        <td>1933</td>\n",
       "    </tr>\n",
       "</table>"
      ],
      "text/plain": [
       "[(\"Intolerance: Love's Struggle Throughout the Ages\", 1916),\n",
       " ('Over the Hill to the Poorhouse', 1920),\n",
       " ('The Big Parade', 1925),\n",
       " ('Metropolis', 1927),\n",
       " (\"Pandora's Box\", 1929),\n",
       " ('The Broadway Melody', 1929),\n",
       " (\"Hell's Angels\", 1930),\n",
       " ('A Farewell to Arms', 1932),\n",
       " ('42nd Street', 1933),\n",
       " ('She Done Him Wrong', 1933)]"
      ]
     },
     "execution_count": 17,
     "metadata": {},
     "output_type": "execute_result"
    }
   ],
   "source": [
    "%sql select title,release_year from films limit 10;"
   ]
  },
  {
   "cell_type": "markdown",
   "metadata": {},
   "source": [
    "Get all the unique countries represented in the films table."
   ]
  },
  {
   "cell_type": "code",
   "execution_count": 23,
   "metadata": {},
   "outputs": [
    {
     "name": "stdout",
     "output_type": "stream",
     "text": [
      " * sqlite:///imdb.db\n",
      "Done.\n"
     ]
    },
    {
     "data": {
      "text/html": [
       "<table>\n",
       "    <tr>\n",
       "        <th>country</th>\n",
       "    </tr>\n",
       "    <tr>\n",
       "        <td>USA</td>\n",
       "    </tr>\n",
       "    <tr>\n",
       "        <td>Germany</td>\n",
       "    </tr>\n",
       "    <tr>\n",
       "        <td>Japan</td>\n",
       "    </tr>\n",
       "    <tr>\n",
       "        <td>Denmark</td>\n",
       "    </tr>\n",
       "    <tr>\n",
       "        <td>UK</td>\n",
       "    </tr>\n",
       "</table>"
      ],
      "text/plain": [
       "[('USA',), ('Germany',), ('Japan',), ('Denmark',), ('UK',)]"
      ]
     },
     "execution_count": 23,
     "metadata": {},
     "output_type": "execute_result"
    }
   ],
   "source": [
    "%sql select distinct country from films limit 5;"
   ]
  },
  {
   "cell_type": "markdown",
   "metadata": {},
   "source": [
    "How many records are contained in the reviews table?"
   ]
  },
  {
   "cell_type": "code",
   "execution_count": 27,
   "metadata": {},
   "outputs": [
    {
     "name": "stdout",
     "output_type": "stream",
     "text": [
      " * sqlite:///imdb.db\n",
      "Done.\n"
     ]
    },
    {
     "data": {
      "text/html": [
       "<table>\n",
       "    <tr>\n",
       "        <th>count(*)</th>\n",
       "    </tr>\n",
       "    <tr>\n",
       "        <td>4968</td>\n",
       "    </tr>\n",
       "</table>"
      ],
      "text/plain": [
       "[(4968,)]"
      ]
     },
     "execution_count": 27,
     "metadata": {},
     "output_type": "execute_result"
    }
   ],
   "source": [
    "%sql select count(*) from reviews"
   ]
  },
  {
   "cell_type": "markdown",
   "metadata": {},
   "source": [
    "Count the number of unique birth dates in the people table."
   ]
  },
  {
   "cell_type": "code",
   "execution_count": 28,
   "metadata": {},
   "outputs": [
    {
     "name": "stdout",
     "output_type": "stream",
     "text": [
      " * sqlite:///imdb.db\n",
      "Done.\n"
     ]
    },
    {
     "data": {
      "text/html": [
       "<table>\n",
       "    <tr>\n",
       "        <th>count(distinct birthdate)</th>\n",
       "    </tr>\n",
       "    <tr>\n",
       "        <td>5398</td>\n",
       "    </tr>\n",
       "</table>"
      ],
      "text/plain": [
       "[(5398,)]"
      ]
     },
     "execution_count": 28,
     "metadata": {},
     "output_type": "execute_result"
    }
   ],
   "source": [
    "%sql select count(distinct birthdate) from people;"
   ]
  },
  {
   "cell_type": "markdown",
   "metadata": {},
   "source": [
    "Get all details for all films released in 2016."
   ]
  },
  {
   "cell_type": "code",
   "execution_count": 31,
   "metadata": {},
   "outputs": [
    {
     "name": "stdout",
     "output_type": "stream",
     "text": [
      " * sqlite:///imdb.db\n",
      "Done.\n"
     ]
    },
    {
     "data": {
      "text/html": [
       "<table>\n",
       "    <tr>\n",
       "        <th>id</th>\n",
       "        <th>title</th>\n",
       "        <th>release_year</th>\n",
       "        <th>country</th>\n",
       "        <th>duration</th>\n",
       "        <th>language</th>\n",
       "        <th>certification</th>\n",
       "        <th>gross</th>\n",
       "        <th>budget</th>\n",
       "    </tr>\n",
       "    <tr>\n",
       "        <td>4821</td>\n",
       "        <td>10 Cloverfield Lane</td>\n",
       "        <td>2016</td>\n",
       "        <td>USA</td>\n",
       "        <td>104</td>\n",
       "        <td>English</td>\n",
       "        <td>PG-13</td>\n",
       "        <td>71897215</td>\n",
       "        <td>15000000</td>\n",
       "    </tr>\n",
       "    <tr>\n",
       "        <td>4822</td>\n",
       "        <td>13 Hours</td>\n",
       "        <td>2016</td>\n",
       "        <td>USA</td>\n",
       "        <td>144</td>\n",
       "        <td>English</td>\n",
       "        <td>R</td>\n",
       "        <td>52822418</td>\n",
       "        <td>50000000</td>\n",
       "    </tr>\n",
       "    <tr>\n",
       "        <td>4823</td>\n",
       "        <td>A Beginner&#x27;s Guide to Snuff</td>\n",
       "        <td>2016</td>\n",
       "        <td>USA</td>\n",
       "        <td>87</td>\n",
       "        <td>English</td>\n",
       "        <td>None</td>\n",
       "        <td>None</td>\n",
       "        <td>None</td>\n",
       "    </tr>\n",
       "    <tr>\n",
       "        <td>4824</td>\n",
       "        <td>Airlift</td>\n",
       "        <td>2016</td>\n",
       "        <td>India</td>\n",
       "        <td>130</td>\n",
       "        <td>Hindi</td>\n",
       "        <td>None</td>\n",
       "        <td>None</td>\n",
       "        <td>4400000</td>\n",
       "    </tr>\n",
       "    <tr>\n",
       "        <td>4825</td>\n",
       "        <td>Alice Through the Looking Glass</td>\n",
       "        <td>2016</td>\n",
       "        <td>USA</td>\n",
       "        <td>113</td>\n",
       "        <td>English</td>\n",
       "        <td>PG</td>\n",
       "        <td>76846624</td>\n",
       "        <td>170000000</td>\n",
       "    </tr>\n",
       "    <tr>\n",
       "        <td>4826</td>\n",
       "        <td>Allegiant</td>\n",
       "        <td>2016</td>\n",
       "        <td>USA</td>\n",
       "        <td>120</td>\n",
       "        <td>English</td>\n",
       "        <td>PG-13</td>\n",
       "        <td>66002193</td>\n",
       "        <td>110000000</td>\n",
       "    </tr>\n",
       "    <tr>\n",
       "        <td>4827</td>\n",
       "        <td>Alleluia! The Devil&#x27;s Carnival</td>\n",
       "        <td>2016</td>\n",
       "        <td>USA</td>\n",
       "        <td>97</td>\n",
       "        <td>English</td>\n",
       "        <td>None</td>\n",
       "        <td>None</td>\n",
       "        <td>500000</td>\n",
       "    </tr>\n",
       "    <tr>\n",
       "        <td>4828</td>\n",
       "        <td>Antibirth</td>\n",
       "        <td>2016</td>\n",
       "        <td>USA</td>\n",
       "        <td>94</td>\n",
       "        <td>English</td>\n",
       "        <td>None</td>\n",
       "        <td>None</td>\n",
       "        <td>3500000</td>\n",
       "    </tr>\n",
       "    <tr>\n",
       "        <td>4829</td>\n",
       "        <td>Bad Moms</td>\n",
       "        <td>2016</td>\n",
       "        <td>USA</td>\n",
       "        <td>100</td>\n",
       "        <td>English</td>\n",
       "        <td>R</td>\n",
       "        <td>55461307</td>\n",
       "        <td>20000000</td>\n",
       "    </tr>\n",
       "    <tr>\n",
       "        <td>4830</td>\n",
       "        <td>Bad Moms</td>\n",
       "        <td>2016</td>\n",
       "        <td>USA</td>\n",
       "        <td>100</td>\n",
       "        <td>English</td>\n",
       "        <td>R</td>\n",
       "        <td>55461307</td>\n",
       "        <td>20000000</td>\n",
       "    </tr>\n",
       "</table>"
      ],
      "text/plain": [
       "[(4821, '10 Cloverfield Lane', 2016, 'USA', 104, 'English', 'PG-13', 71897215, 15000000),\n",
       " (4822, '13 Hours', 2016, 'USA', 144, 'English', 'R', 52822418, 50000000),\n",
       " (4823, \"A Beginner's Guide to Snuff\", 2016, 'USA', 87, 'English', None, None, None),\n",
       " (4824, 'Airlift', 2016, 'India', 130, 'Hindi', None, None, 4400000),\n",
       " (4825, 'Alice Through the Looking Glass', 2016, 'USA', 113, 'English', 'PG', 76846624, 170000000),\n",
       " (4826, 'Allegiant', 2016, 'USA', 120, 'English', 'PG-13', 66002193, 110000000),\n",
       " (4827, \"Alleluia! The Devil's Carnival\", 2016, 'USA', 97, 'English', None, None, 500000),\n",
       " (4828, 'Antibirth', 2016, 'USA', 94, 'English', None, None, 3500000),\n",
       " (4829, 'Bad Moms', 2016, 'USA', 100, 'English', 'R', 55461307, 20000000),\n",
       " (4830, 'Bad Moms', 2016, 'USA', 100, 'English', 'R', 55461307, 20000000)]"
      ]
     },
     "execution_count": 31,
     "metadata": {},
     "output_type": "execute_result"
    }
   ],
   "source": [
    "%sql select * from films where release_year = 2016 limit 10;"
   ]
  },
  {
   "cell_type": "markdown",
   "metadata": {},
   "source": [
    "Get the number of films released before 2000."
   ]
  },
  {
   "cell_type": "code",
   "execution_count": 32,
   "metadata": {},
   "outputs": [
    {
     "name": "stdout",
     "output_type": "stream",
     "text": [
      " * sqlite:///imdb.db\n",
      "Done.\n"
     ]
    },
    {
     "data": {
      "text/html": [
       "<table>\n",
       "    <tr>\n",
       "        <th>count(*)</th>\n",
       "    </tr>\n",
       "    <tr>\n",
       "        <td>2674</td>\n",
       "    </tr>\n",
       "</table>"
      ],
      "text/plain": [
       "[(2674,)]"
      ]
     },
     "execution_count": 32,
     "metadata": {},
     "output_type": "execute_result"
    }
   ],
   "source": [
    "%sql select count(*) from films where release_year < 2000;"
   ]
  },
  {
   "cell_type": "markdown",
   "metadata": {},
   "source": [
    "Get the name and birth date of the person born on November 11th, 1974."
   ]
  },
  {
   "cell_type": "code",
   "execution_count": 34,
   "metadata": {},
   "outputs": [
    {
     "name": "stdout",
     "output_type": "stream",
     "text": [
      " * sqlite:///imdb.db\n",
      "Done.\n"
     ]
    },
    {
     "data": {
      "text/html": [
       "<table>\n",
       "    <tr>\n",
       "        <th>id</th>\n",
       "        <th>name</th>\n",
       "        <th>birthdate</th>\n",
       "        <th>deathdate</th>\n",
       "    </tr>\n",
       "    <tr>\n",
       "        <td>4792</td>\n",
       "        <td>Leonardo DiCaprio</td>\n",
       "        <td>1974-11-11</td>\n",
       "        <td>None</td>\n",
       "    </tr>\n",
       "</table>"
      ],
      "text/plain": [
       "[(4792, 'Leonardo DiCaprio', '1974-11-11', None)]"
      ]
     },
     "execution_count": 34,
     "metadata": {},
     "output_type": "execute_result"
    }
   ],
   "source": [
    "%sql select * from people where birthdate = '1974-11-11';"
   ]
  },
  {
   "cell_type": "markdown",
   "metadata": {},
   "source": [
    "Get the number of Hindi language films."
   ]
  },
  {
   "cell_type": "code",
   "execution_count": 35,
   "metadata": {},
   "outputs": [
    {
     "name": "stdout",
     "output_type": "stream",
     "text": [
      " * sqlite:///imdb.db\n",
      "Done.\n"
     ]
    },
    {
     "data": {
      "text/html": [
       "<table>\n",
       "    <tr>\n",
       "        <th>count(*)</th>\n",
       "    </tr>\n",
       "    <tr>\n",
       "        <td>56</td>\n",
       "    </tr>\n",
       "</table>"
      ],
      "text/plain": [
       "[(56,)]"
      ]
     },
     "execution_count": 35,
     "metadata": {},
     "output_type": "execute_result"
    }
   ],
   "source": [
    "%sql select count(*) from films where language = 'Hindi';"
   ]
  },
  {
   "cell_type": "markdown",
   "metadata": {},
   "source": [
    "Get all details for Spanish language films released after 2000, but before 2010."
   ]
  },
  {
   "cell_type": "code",
   "execution_count": 38,
   "metadata": {},
   "outputs": [
    {
     "name": "stdout",
     "output_type": "stream",
     "text": [
      " * sqlite:///imdb.db\n",
      "Done.\n"
     ]
    },
    {
     "data": {
      "text/html": [
       "<table>\n",
       "    <tr>\n",
       "        <th>id</th>\n",
       "        <th>title</th>\n",
       "        <th>release_year</th>\n",
       "        <th>country</th>\n",
       "        <th>duration</th>\n",
       "        <th>language</th>\n",
       "        <th>certification</th>\n",
       "        <th>gross</th>\n",
       "        <th>budget</th>\n",
       "    </tr>\n",
       "    <tr>\n",
       "        <td>1695</td>\n",
       "        <td>Y Tu Mamá También</td>\n",
       "        <td>2001</td>\n",
       "        <td>Mexico</td>\n",
       "        <td>106</td>\n",
       "        <td>Spanish</td>\n",
       "        <td>R</td>\n",
       "        <td>13622333</td>\n",
       "        <td>2000000</td>\n",
       "    </tr>\n",
       "    <tr>\n",
       "        <td>1757</td>\n",
       "        <td>El crimen del padre Amaro</td>\n",
       "        <td>2002</td>\n",
       "        <td>Mexico</td>\n",
       "        <td>118</td>\n",
       "        <td>Spanish</td>\n",
       "        <td>R</td>\n",
       "        <td>5709616</td>\n",
       "        <td>1800000</td>\n",
       "    </tr>\n",
       "    <tr>\n",
       "        <td>1807</td>\n",
       "        <td>Mondays in the Sun</td>\n",
       "        <td>2002</td>\n",
       "        <td>Spain</td>\n",
       "        <td>113</td>\n",
       "        <td>Spanish</td>\n",
       "        <td>R</td>\n",
       "        <td>146402</td>\n",
       "        <td>4000000</td>\n",
       "    </tr>\n",
       "    <tr>\n",
       "        <td>2173</td>\n",
       "        <td>Live-In Maid</td>\n",
       "        <td>2004</td>\n",
       "        <td>Argentina</td>\n",
       "        <td>83</td>\n",
       "        <td>Spanish</td>\n",
       "        <td>Unrated</td>\n",
       "        <td>None</td>\n",
       "        <td>800000</td>\n",
       "    </tr>\n",
       "    <tr>\n",
       "        <td>2175</td>\n",
       "        <td>Maria Full of Grace</td>\n",
       "        <td>2004</td>\n",
       "        <td>Colombia</td>\n",
       "        <td>101</td>\n",
       "        <td>Spanish</td>\n",
       "        <td>R</td>\n",
       "        <td>6517198</td>\n",
       "        <td>3000000</td>\n",
       "    </tr>\n",
       "    <tr>\n",
       "        <td>2246</td>\n",
       "        <td>The Holy Girl</td>\n",
       "        <td>2004</td>\n",
       "        <td>Argentina</td>\n",
       "        <td>106</td>\n",
       "        <td>Spanish</td>\n",
       "        <td>R</td>\n",
       "        <td>304124</td>\n",
       "        <td>1400000</td>\n",
       "    </tr>\n",
       "    <tr>\n",
       "        <td>2263</td>\n",
       "        <td>The Sea Inside</td>\n",
       "        <td>2004</td>\n",
       "        <td>Spain</td>\n",
       "        <td>125</td>\n",
       "        <td>Spanish</td>\n",
       "        <td>PG-13</td>\n",
       "        <td>2086345</td>\n",
       "        <td>10000000</td>\n",
       "    </tr>\n",
       "    <tr>\n",
       "        <td>2458</td>\n",
       "        <td>The Legend of Zorro</td>\n",
       "        <td>2005</td>\n",
       "        <td>USA</td>\n",
       "        <td>129</td>\n",
       "        <td>Spanish</td>\n",
       "        <td>PG</td>\n",
       "        <td>45356386</td>\n",
       "        <td>75000000</td>\n",
       "    </tr>\n",
       "    <tr>\n",
       "        <td>2542</td>\n",
       "        <td>Captain Alatriste: The Spanish Musketeer</td>\n",
       "        <td>2006</td>\n",
       "        <td>Spain</td>\n",
       "        <td>145</td>\n",
       "        <td>Spanish</td>\n",
       "        <td>None</td>\n",
       "        <td>None</td>\n",
       "        <td>24000000</td>\n",
       "    </tr>\n",
       "    <tr>\n",
       "        <td>2646</td>\n",
       "        <td>Pan&#x27;s Labyrinth</td>\n",
       "        <td>2006</td>\n",
       "        <td>Spain</td>\n",
       "        <td>112</td>\n",
       "        <td>Spanish</td>\n",
       "        <td>R</td>\n",
       "        <td>37623143</td>\n",
       "        <td>13500000</td>\n",
       "    </tr>\n",
       "</table>"
      ],
      "text/plain": [
       "[(1695, 'Y Tu Mamá También', 2001, 'Mexico', 106, 'Spanish', 'R', 13622333, 2000000),\n",
       " (1757, 'El crimen del padre Amaro', 2002, 'Mexico', 118, 'Spanish', 'R', 5709616, 1800000),\n",
       " (1807, 'Mondays in the Sun', 2002, 'Spain', 113, 'Spanish', 'R', 146402, 4000000),\n",
       " (2173, 'Live-In Maid', 2004, 'Argentina', 83, 'Spanish', 'Unrated', None, 800000),\n",
       " (2175, 'Maria Full of Grace', 2004, 'Colombia', 101, 'Spanish', 'R', 6517198, 3000000),\n",
       " (2246, 'The Holy Girl', 2004, 'Argentina', 106, 'Spanish', 'R', 304124, 1400000),\n",
       " (2263, 'The Sea Inside', 2004, 'Spain', 125, 'Spanish', 'PG-13', 2086345, 10000000),\n",
       " (2458, 'The Legend of Zorro', 2005, 'USA', 129, 'Spanish', 'PG', 45356386, 75000000),\n",
       " (2542, 'Captain Alatriste: The Spanish Musketeer', 2006, 'Spain', 145, 'Spanish', None, None, 24000000),\n",
       " (2646, \"Pan's Labyrinth\", 2006, 'Spain', 112, 'Spanish', 'R', 37623143, 13500000)]"
      ]
     },
     "execution_count": 38,
     "metadata": {},
     "output_type": "execute_result"
    }
   ],
   "source": [
    "%sql select * from films where language = 'Spanish' and (release_year > 2000 and release_year < 2010) limit 10;"
   ]
  },
  {
   "cell_type": "markdown",
   "metadata": {},
   "source": [
    "Get the title and release year for films released in the 90s  to only include French or Spanish language films."
   ]
  },
  {
   "cell_type": "code",
   "execution_count": 44,
   "metadata": {},
   "outputs": [
    {
     "name": "stdout",
     "output_type": "stream",
     "text": [
      " * sqlite:///imdb.db\n",
      "Done.\n"
     ]
    },
    {
     "data": {
      "text/html": [
       "<table>\n",
       "    <tr>\n",
       "        <th>title</th>\n",
       "        <th>release_year</th>\n",
       "    </tr>\n",
       "    <tr>\n",
       "        <td>El Mariachi</td>\n",
       "        <td>1992</td>\n",
       "    </tr>\n",
       "    <tr>\n",
       "        <td>Les visiteurs</td>\n",
       "        <td>1993</td>\n",
       "    </tr>\n",
       "    <tr>\n",
       "        <td>The Horseman on the Roof</td>\n",
       "        <td>1995</td>\n",
       "    </tr>\n",
       "    <tr>\n",
       "        <td>When the Cat&#x27;s Away</td>\n",
       "        <td>1996</td>\n",
       "    </tr>\n",
       "    <tr>\n",
       "        <td>The Chambermaid on the Titanic</td>\n",
       "        <td>1997</td>\n",
       "    </tr>\n",
       "    <tr>\n",
       "        <td>The Swindle</td>\n",
       "        <td>1997</td>\n",
       "    </tr>\n",
       "    <tr>\n",
       "        <td>La otra conquista</td>\n",
       "        <td>1998</td>\n",
       "    </tr>\n",
       "    <tr>\n",
       "        <td>Les couloirs du temps: Les visiteurs II</td>\n",
       "        <td>1998</td>\n",
       "    </tr>\n",
       "    <tr>\n",
       "        <td>Tango</td>\n",
       "        <td>1998</td>\n",
       "    </tr>\n",
       "    <tr>\n",
       "        <td>The Red Violin</td>\n",
       "        <td>1998</td>\n",
       "    </tr>\n",
       "</table>"
      ],
      "text/plain": [
       "[('El Mariachi', 1992),\n",
       " ('Les visiteurs', 1993),\n",
       " ('The Horseman on the Roof', 1995),\n",
       " (\"When the Cat's Away\", 1996),\n",
       " ('The Chambermaid on the Titanic', 1997),\n",
       " ('The Swindle', 1997),\n",
       " ('La otra conquista', 1998),\n",
       " ('Les couloirs du temps: Les visiteurs II', 1998),\n",
       " ('Tango', 1998),\n",
       " ('The Red Violin', 1998)]"
      ]
     },
     "execution_count": 44,
     "metadata": {},
     "output_type": "execute_result"
    }
   ],
   "source": [
    "%%sql \n",
    "select title, release_year from films where (release_year >= 1990 and release_year < 2000) \n",
    "and (language = 'French' or language = 'Spanish') limit 10;"
   ]
  },
  {
   "cell_type": "code",
   "execution_count": 45,
   "metadata": {},
   "outputs": [
    {
     "name": "stdout",
     "output_type": "stream",
     "text": [
      " * sqlite:///imdb.db\n",
      "Done.\n"
     ]
    },
    {
     "data": {
      "text/html": [
       "<table>\n",
       "    <tr>\n",
       "        <th>title</th>\n",
       "        <th>release_year</th>\n",
       "    </tr>\n",
       "    <tr>\n",
       "        <td>El Mariachi</td>\n",
       "        <td>1992</td>\n",
       "    </tr>\n",
       "    <tr>\n",
       "        <td>Les visiteurs</td>\n",
       "        <td>1993</td>\n",
       "    </tr>\n",
       "    <tr>\n",
       "        <td>The Horseman on the Roof</td>\n",
       "        <td>1995</td>\n",
       "    </tr>\n",
       "    <tr>\n",
       "        <td>When the Cat&#x27;s Away</td>\n",
       "        <td>1996</td>\n",
       "    </tr>\n",
       "    <tr>\n",
       "        <td>The Chambermaid on the Titanic</td>\n",
       "        <td>1997</td>\n",
       "    </tr>\n",
       "    <tr>\n",
       "        <td>The Swindle</td>\n",
       "        <td>1997</td>\n",
       "    </tr>\n",
       "    <tr>\n",
       "        <td>La otra conquista</td>\n",
       "        <td>1998</td>\n",
       "    </tr>\n",
       "    <tr>\n",
       "        <td>Les couloirs du temps: Les visiteurs II</td>\n",
       "        <td>1998</td>\n",
       "    </tr>\n",
       "    <tr>\n",
       "        <td>Tango</td>\n",
       "        <td>1998</td>\n",
       "    </tr>\n",
       "    <tr>\n",
       "        <td>The Red Violin</td>\n",
       "        <td>1998</td>\n",
       "    </tr>\n",
       "</table>"
      ],
      "text/plain": [
       "[('El Mariachi', 1992),\n",
       " ('Les visiteurs', 1993),\n",
       " ('The Horseman on the Roof', 1995),\n",
       " (\"When the Cat's Away\", 1996),\n",
       " ('The Chambermaid on the Titanic', 1997),\n",
       " ('The Swindle', 1997),\n",
       " ('La otra conquista', 1998),\n",
       " ('Les couloirs du temps: Les visiteurs II', 1998),\n",
       " ('Tango', 1998),\n",
       " ('The Red Violin', 1998)]"
      ]
     },
     "execution_count": 45,
     "metadata": {},
     "output_type": "execute_result"
    }
   ],
   "source": [
    "%%sql \n",
    "select title, release_year from films where (release_year >= 1990 and release_year < 2000) \n",
    "and language in ('French','Spanish') limit 10;"
   ]
  },
  {
   "cell_type": "markdown",
   "metadata": {},
   "source": [
    "Get the title and release year of all films released between 1990 and 2000 (inclusive).\n",
    "And have budgets over 100 million and spanish language"
   ]
  },
  {
   "cell_type": "code",
   "execution_count": 51,
   "metadata": {},
   "outputs": [
    {
     "name": "stdout",
     "output_type": "stream",
     "text": [
      " * sqlite:///imdb.db\n",
      "Done.\n"
     ]
    },
    {
     "data": {
      "text/html": [
       "<table>\n",
       "    <tr>\n",
       "        <th>title</th>\n",
       "        <th>release_year</th>\n",
       "    </tr>\n",
       "    <tr>\n",
       "        <td>Tango</td>\n",
       "        <td>1998</td>\n",
       "    </tr>\n",
       "    <tr>\n",
       "        <td>Tango</td>\n",
       "        <td>1998</td>\n",
       "    </tr>\n",
       "</table>"
      ],
      "text/plain": [
       "[('Tango', 1998), ('Tango', 1998)]"
      ]
     },
     "execution_count": 51,
     "metadata": {},
     "output_type": "execute_result"
    }
   ],
   "source": [
    "%%sql\n",
    "select title,release_year from films where release_year between 1990 and 2000\n",
    "and budget > 100000000 and language = 'Spanish';"
   ]
  },
  {
   "cell_type": "markdown",
   "metadata": {},
   "source": [
    "Get the title and release year of all films released in 1990 or 2000 that were longer than two hours. Remember, duration is in minutes"
   ]
  },
  {
   "cell_type": "code",
   "execution_count": 53,
   "metadata": {},
   "outputs": [
    {
     "name": "stdout",
     "output_type": "stream",
     "text": [
      " * sqlite:///imdb.db\n",
      "Done.\n"
     ]
    },
    {
     "data": {
      "text/html": [
       "<table>\n",
       "    <tr>\n",
       "        <th>title</th>\n",
       "        <th>release_year</th>\n",
       "    </tr>\n",
       "    <tr>\n",
       "        <td>Dances with Wolves</td>\n",
       "        <td>1990</td>\n",
       "    </tr>\n",
       "    <tr>\n",
       "        <td>Die Hard 2</td>\n",
       "        <td>1990</td>\n",
       "    </tr>\n",
       "    <tr>\n",
       "        <td>Ghost</td>\n",
       "        <td>1990</td>\n",
       "    </tr>\n",
       "    <tr>\n",
       "        <td>Goodfellas</td>\n",
       "        <td>1990</td>\n",
       "    </tr>\n",
       "    <tr>\n",
       "        <td>Mo&#x27; Better Blues</td>\n",
       "        <td>1990</td>\n",
       "    </tr>\n",
       "</table>"
      ],
      "text/plain": [
       "[('Dances with Wolves', 1990),\n",
       " ('Die Hard 2', 1990),\n",
       " ('Ghost', 1990),\n",
       " ('Goodfellas', 1990),\n",
       " (\"Mo' Better Blues\", 1990)]"
      ]
     },
     "execution_count": 53,
     "metadata": {},
     "output_type": "execute_result"
    }
   ],
   "source": [
    "%%sql\n",
    "select title, release_year from films where release_year in (1990,2000)\n",
    "and duration > 120 limit 5;"
   ]
  },
  {
   "cell_type": "markdown",
   "metadata": {},
   "source": [
    "Get the names of people who are still alive, i.e. whose death date is missing."
   ]
  },
  {
   "cell_type": "code",
   "execution_count": 55,
   "metadata": {},
   "outputs": [
    {
     "name": "stdout",
     "output_type": "stream",
     "text": [
      " * sqlite:///imdb.db\n",
      "Done.\n"
     ]
    },
    {
     "data": {
      "text/html": [
       "<table>\n",
       "    <tr>\n",
       "        <th>id</th>\n",
       "        <th>name</th>\n",
       "        <th>birthdate</th>\n",
       "        <th>deathdate</th>\n",
       "    </tr>\n",
       "    <tr>\n",
       "        <td>1</td>\n",
       "        <td>50 Cent</td>\n",
       "        <td>1975-07-06</td>\n",
       "        <td>None</td>\n",
       "    </tr>\n",
       "    <tr>\n",
       "        <td>2</td>\n",
       "        <td>A. Michael Baldwin</td>\n",
       "        <td>1963-04-04</td>\n",
       "        <td>None</td>\n",
       "    </tr>\n",
       "    <tr>\n",
       "        <td>3</td>\n",
       "        <td>A. Raven Cruz</td>\n",
       "        <td>None</td>\n",
       "        <td>None</td>\n",
       "    </tr>\n",
       "    <tr>\n",
       "        <td>4</td>\n",
       "        <td>A.J. Buckley</td>\n",
       "        <td>1978-02-09</td>\n",
       "        <td>None</td>\n",
       "    </tr>\n",
       "    <tr>\n",
       "        <td>5</td>\n",
       "        <td>A.J. DeLucia</td>\n",
       "        <td>None</td>\n",
       "        <td>None</td>\n",
       "    </tr>\n",
       "</table>"
      ],
      "text/plain": [
       "[(1, '50 Cent', '1975-07-06', None),\n",
       " (2, 'A. Michael Baldwin', '1963-04-04', None),\n",
       " (3, 'A. Raven Cruz', None, None),\n",
       " (4, 'A.J. Buckley', '1978-02-09', None),\n",
       " (5, 'A.J. DeLucia', None, None)]"
      ]
     },
     "execution_count": 55,
     "metadata": {},
     "output_type": "execute_result"
    }
   ],
   "source": [
    "%sql select * from people where deathdate is NULL limit 5;"
   ]
  },
  {
   "cell_type": "markdown",
   "metadata": {},
   "source": [
    "Get the names of all people whose names begin with 'B'."
   ]
  },
  {
   "cell_type": "code",
   "execution_count": 60,
   "metadata": {},
   "outputs": [
    {
     "name": "stdout",
     "output_type": "stream",
     "text": [
      " * sqlite:///imdb.db\n",
      "Done.\n"
     ]
    },
    {
     "data": {
      "text/html": [
       "<table>\n",
       "    <tr>\n",
       "        <th>name</th>\n",
       "    </tr>\n",
       "    <tr>\n",
       "        <td>B.J. Novak</td>\n",
       "    </tr>\n",
       "    <tr>\n",
       "        <td>Babak Najafi</td>\n",
       "    </tr>\n",
       "    <tr>\n",
       "        <td>Babar Ahmed</td>\n",
       "    </tr>\n",
       "    <tr>\n",
       "        <td>Bahare Seddiqi</td>\n",
       "    </tr>\n",
       "    <tr>\n",
       "        <td>Bai Ling</td>\n",
       "    </tr>\n",
       "</table>"
      ],
      "text/plain": [
       "[('B.J. Novak',),\n",
       " ('Babak Najafi',),\n",
       " ('Babar Ahmed',),\n",
       " ('Bahare Seddiqi',),\n",
       " ('Bai Ling',)]"
      ]
     },
     "execution_count": 60,
     "metadata": {},
     "output_type": "execute_result"
    }
   ],
   "source": [
    "%sql select name from people where name like \"B%\" limit 5;"
   ]
  },
  {
   "cell_type": "markdown",
   "metadata": {},
   "source": [
    "Get the names of people whose names have 'r' as the second letter."
   ]
  },
  {
   "cell_type": "code",
   "execution_count": 64,
   "metadata": {},
   "outputs": [
    {
     "name": "stdout",
     "output_type": "stream",
     "text": [
      " * sqlite:///imdb.db\n",
      "Done.\n"
     ]
    },
    {
     "data": {
      "text/html": [
       "<table>\n",
       "    <tr>\n",
       "        <th>name</th>\n",
       "    </tr>\n",
       "    <tr>\n",
       "        <td>Ara Celi</td>\n",
       "    </tr>\n",
       "    <tr>\n",
       "        <td>Aramis Knight</td>\n",
       "    </tr>\n",
       "    <tr>\n",
       "        <td>Arben Bajraktaraj</td>\n",
       "    </tr>\n",
       "    <tr>\n",
       "        <td>Arcelia Ramírez</td>\n",
       "    </tr>\n",
       "    <tr>\n",
       "        <td>Archie Kao</td>\n",
       "    </tr>\n",
       "</table>"
      ],
      "text/plain": [
       "[('Ara Celi',),\n",
       " ('Aramis Knight',),\n",
       " ('Arben Bajraktaraj',),\n",
       " ('Arcelia Ramírez',),\n",
       " ('Archie Kao',)]"
      ]
     },
     "execution_count": 64,
     "metadata": {},
     "output_type": "execute_result"
    }
   ],
   "source": [
    "%sql select name from people where name like \"_r%\" limit 5;"
   ]
  },
  {
   "cell_type": "code",
   "execution_count": null,
   "metadata": {},
   "outputs": [],
   "source": []
  }
 ],
 "metadata": {
  "kernelspec": {
   "display_name": "Python 3",
   "language": "python",
   "name": "python3"
  },
  "language_info": {
   "codemirror_mode": {
    "name": "ipython",
    "version": 3
   },
   "file_extension": ".py",
   "mimetype": "text/x-python",
   "name": "python",
   "nbconvert_exporter": "python",
   "pygments_lexer": "ipython3",
   "version": "3.5.6"
  }
 },
 "nbformat": 4,
 "nbformat_minor": 2
}
