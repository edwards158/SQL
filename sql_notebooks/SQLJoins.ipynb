{
 "cells": [
  {
   "cell_type": "markdown",
   "metadata": {},
   "source": [
    "## Joins"
   ]
  },
  {
   "cell_type": "code",
   "execution_count": 47,
   "metadata": {},
   "outputs": [
    {
     "name": "stdout",
     "output_type": "stream",
     "text": [
      "The sql extension is already loaded. To reload it, use:\n",
      "  %reload_ext sql\n"
     ]
    }
   ],
   "source": [
    "%load_ext sql"
   ]
  },
  {
   "cell_type": "code",
   "execution_count": 48,
   "metadata": {},
   "outputs": [
    {
     "data": {
      "text/plain": [
       "'Connected: @db1.db'"
      ]
     },
     "execution_count": 48,
     "metadata": {},
     "output_type": "execute_result"
    }
   ],
   "source": [
    "%sql sqlite:///db1.db"
   ]
  },
  {
   "cell_type": "code",
   "execution_count": 49,
   "metadata": {},
   "outputs": [
    {
     "name": "stdout",
     "output_type": "stream",
     "text": [
      " * sqlite:///db1.db\n",
      "Done.\n"
     ]
    },
    {
     "data": {
      "text/html": [
       "<table>\n",
       "    <tr>\n",
       "        <th>name</th>\n",
       "    </tr>\n",
       "    <tr>\n",
       "        <td>cities</td>\n",
       "    </tr>\n",
       "    <tr>\n",
       "        <td>countries</td>\n",
       "    </tr>\n",
       "    <tr>\n",
       "        <td>countries_plus</td>\n",
       "    </tr>\n",
       "    <tr>\n",
       "        <td>currencies</td>\n",
       "    </tr>\n",
       "    <tr>\n",
       "        <td>economies</td>\n",
       "    </tr>\n",
       "    <tr>\n",
       "        <td>economies2010</td>\n",
       "    </tr>\n",
       "    <tr>\n",
       "        <td>economies2015</td>\n",
       "    </tr>\n",
       "    <tr>\n",
       "        <td>languages</td>\n",
       "    </tr>\n",
       "    <tr>\n",
       "        <td>populations</td>\n",
       "    </tr>\n",
       "</table>"
      ],
      "text/plain": [
       "[('cities',),\n",
       " ('countries',),\n",
       " ('countries_plus',),\n",
       " ('currencies',),\n",
       " ('economies',),\n",
       " ('economies2010',),\n",
       " ('economies2015',),\n",
       " ('languages',),\n",
       " ('populations',)]"
      ]
     },
     "execution_count": 49,
     "metadata": {},
     "output_type": "execute_result"
    }
   ],
   "source": [
    "%sql select name from sqlite_master where type = 'table';"
   ]
  },
  {
   "cell_type": "markdown",
   "metadata": {},
   "source": [
    "### Inner Joins"
   ]
  },
  {
   "cell_type": "code",
   "execution_count": 50,
   "metadata": {},
   "outputs": [
    {
     "name": "stdout",
     "output_type": "stream",
     "text": [
      " * sqlite:///db1.db\n",
      "Done.\n"
     ]
    },
    {
     "data": {
      "text/html": [
       "<table>\n",
       "    <tr>\n",
       "        <th>name</th>\n",
       "        <th>country_code</th>\n",
       "        <th>city_proper_pop</th>\n",
       "        <th>metroarea_pop</th>\n",
       "        <th>urbanarea_pop</th>\n",
       "    </tr>\n",
       "    <tr>\n",
       "        <td>Abidjan</td>\n",
       "        <td>CIV</td>\n",
       "        <td>4765000</td>\n",
       "        <td>None</td>\n",
       "        <td>4765000</td>\n",
       "    </tr>\n",
       "    <tr>\n",
       "        <td>Abu Dhabi</td>\n",
       "        <td>ARE</td>\n",
       "        <td>1145000</td>\n",
       "        <td>None</td>\n",
       "        <td>1145000</td>\n",
       "    </tr>\n",
       "    <tr>\n",
       "        <td>Abuja</td>\n",
       "        <td>NGA</td>\n",
       "        <td>1235880</td>\n",
       "        <td>6000000</td>\n",
       "        <td>1235880</td>\n",
       "    </tr>\n",
       "    <tr>\n",
       "        <td>Accra</td>\n",
       "        <td>GHA</td>\n",
       "        <td>2070463</td>\n",
       "        <td>4010054</td>\n",
       "        <td>2070463</td>\n",
       "    </tr>\n",
       "    <tr>\n",
       "        <td>Addis Ababa</td>\n",
       "        <td>ETH</td>\n",
       "        <td>3103673</td>\n",
       "        <td>4567857</td>\n",
       "        <td>3103673</td>\n",
       "    </tr>\n",
       "</table>"
      ],
      "text/plain": [
       "[('Abidjan', 'CIV', 4765000, None, 4765000),\n",
       " ('Abu Dhabi', 'ARE', 1145000, None, 1145000),\n",
       " ('Abuja', 'NGA', 1235880, 6000000, 1235880),\n",
       " ('Accra', 'GHA', 2070463, 4010054, 2070463),\n",
       " ('Addis Ababa', 'ETH', 3103673, 4567857, 3103673)]"
      ]
     },
     "execution_count": 50,
     "metadata": {},
     "output_type": "execute_result"
    }
   ],
   "source": [
    "%sql select * from cities limit 5;"
   ]
  },
  {
   "cell_type": "code",
   "execution_count": 51,
   "metadata": {},
   "outputs": [
    {
     "name": "stdout",
     "output_type": "stream",
     "text": [
      " * sqlite:///db1.db\n",
      "Done.\n"
     ]
    },
    {
     "data": {
      "text/html": [
       "<table>\n",
       "    <tr>\n",
       "        <th>code</th>\n",
       "        <th>country_name</th>\n",
       "        <th>continent</th>\n",
       "        <th>region</th>\n",
       "        <th>surface_area</th>\n",
       "        <th>indep_year</th>\n",
       "        <th>local_name</th>\n",
       "        <th>gov_form</th>\n",
       "        <th>capital</th>\n",
       "        <th>cap_long</th>\n",
       "        <th>cap_lat</th>\n",
       "    </tr>\n",
       "    <tr>\n",
       "        <td>AFG</td>\n",
       "        <td>Afghanistan</td>\n",
       "        <td>Asia</td>\n",
       "        <td>Southern and Central Asia</td>\n",
       "        <td>652090.0</td>\n",
       "        <td>1919</td>\n",
       "        <td>Afganistan/Afqanestan</td>\n",
       "        <td>Islamic Emirate</td>\n",
       "        <td>Kabul</td>\n",
       "        <td>69.1761</td>\n",
       "        <td>34.5228</td>\n",
       "    </tr>\n",
       "    <tr>\n",
       "        <td>NLD</td>\n",
       "        <td>Netherlands</td>\n",
       "        <td>Europe</td>\n",
       "        <td>Western Europe</td>\n",
       "        <td>41526.0</td>\n",
       "        <td>1581</td>\n",
       "        <td>Nederland</td>\n",
       "        <td>Constitutional Monarchy</td>\n",
       "        <td>Amsterdam</td>\n",
       "        <td>4.89095</td>\n",
       "        <td>52.3738</td>\n",
       "    </tr>\n",
       "    <tr>\n",
       "        <td>ALB</td>\n",
       "        <td>Albania</td>\n",
       "        <td>Europe</td>\n",
       "        <td>Southern Europe</td>\n",
       "        <td>28748.0</td>\n",
       "        <td>1912</td>\n",
       "        <td>Shqiperia</td>\n",
       "        <td>Republic</td>\n",
       "        <td>Tirane</td>\n",
       "        <td>19.8172</td>\n",
       "        <td>41.3317</td>\n",
       "    </tr>\n",
       "    <tr>\n",
       "        <td>DZA</td>\n",
       "        <td>Algeria</td>\n",
       "        <td>Africa</td>\n",
       "        <td>Northern Africa</td>\n",
       "        <td>2381740.0</td>\n",
       "        <td>1962</td>\n",
       "        <td>Al-Jazair/Algerie</td>\n",
       "        <td>Republic</td>\n",
       "        <td>Algiers</td>\n",
       "        <td>3.05097</td>\n",
       "        <td>36.7397</td>\n",
       "    </tr>\n",
       "    <tr>\n",
       "        <td>ASM</td>\n",
       "        <td>American Samoa</td>\n",
       "        <td>Oceania</td>\n",
       "        <td>Polynesia</td>\n",
       "        <td>199.0</td>\n",
       "        <td>None</td>\n",
       "        <td>Amerika Samoa</td>\n",
       "        <td>US Territory</td>\n",
       "        <td>Pago Pago</td>\n",
       "        <td>-170.69099999999997</td>\n",
       "        <td>-14.2846</td>\n",
       "    </tr>\n",
       "</table>"
      ],
      "text/plain": [
       "[('AFG', 'Afghanistan', 'Asia', 'Southern and Central Asia', 652090.0, 1919, 'Afganistan/Afqanestan', 'Islamic Emirate', 'Kabul', 69.1761, 34.5228),\n",
       " ('NLD', 'Netherlands', 'Europe', 'Western Europe', 41526.0, 1581, 'Nederland', 'Constitutional Monarchy', 'Amsterdam', 4.89095, 52.3738),\n",
       " ('ALB', 'Albania', 'Europe', 'Southern Europe', 28748.0, 1912, 'Shqiperia', 'Republic', 'Tirane', 19.8172, 41.3317),\n",
       " ('DZA', 'Algeria', 'Africa', 'Northern Africa', 2381740.0, 1962, 'Al-Jaza\\x92ir/Algerie', 'Republic', 'Algiers', 3.05097, 36.7397),\n",
       " ('ASM', 'American Samoa', 'Oceania', 'Polynesia', 199.0, None, 'Amerika Samoa', 'US Territory', 'Pago Pago', -170.69099999999997, -14.2846)]"
      ]
     },
     "execution_count": 51,
     "metadata": {},
     "output_type": "execute_result"
    }
   ],
   "source": [
    "%sql select * from countries limit 5;"
   ]
  },
  {
   "cell_type": "markdown",
   "metadata": {},
   "source": [
    "#### Inner join the cities table on the left to the countries table on the right, keeping all of the fields in both tables"
   ]
  },
  {
   "cell_type": "code",
   "execution_count": 52,
   "metadata": {},
   "outputs": [
    {
     "name": "stdout",
     "output_type": "stream",
     "text": [
      " * sqlite:///db1.db\n",
      "Done.\n"
     ]
    },
    {
     "data": {
      "text/html": [
       "<table>\n",
       "    <tr>\n",
       "        <th>name</th>\n",
       "        <th>country_code</th>\n",
       "        <th>city_proper_pop</th>\n",
       "        <th>metroarea_pop</th>\n",
       "        <th>urbanarea_pop</th>\n",
       "        <th>code</th>\n",
       "        <th>country_name</th>\n",
       "        <th>continent</th>\n",
       "        <th>region</th>\n",
       "        <th>surface_area</th>\n",
       "        <th>indep_year</th>\n",
       "        <th>local_name</th>\n",
       "        <th>gov_form</th>\n",
       "        <th>capital</th>\n",
       "        <th>cap_long</th>\n",
       "        <th>cap_lat</th>\n",
       "    </tr>\n",
       "    <tr>\n",
       "        <td>Abidjan</td>\n",
       "        <td>CIV</td>\n",
       "        <td>4765000</td>\n",
       "        <td>None</td>\n",
       "        <td>4765000</td>\n",
       "        <td>CIV</td>\n",
       "        <td>Cote d&#x27;Ivoire</td>\n",
       "        <td>Africa</td>\n",
       "        <td>Western Africa</td>\n",
       "        <td>322463.0</td>\n",
       "        <td>1960</td>\n",
       "        <td>Cote dIvoire</td>\n",
       "        <td>Republic</td>\n",
       "        <td>Yamoussoukro</td>\n",
       "        <td>-4.0305</td>\n",
       "        <td>5.332000000000001</td>\n",
       "    </tr>\n",
       "    <tr>\n",
       "        <td>Abu Dhabi</td>\n",
       "        <td>ARE</td>\n",
       "        <td>1145000</td>\n",
       "        <td>None</td>\n",
       "        <td>1145000</td>\n",
       "        <td>ARE</td>\n",
       "        <td>United Arab Emirates</td>\n",
       "        <td>Asia</td>\n",
       "        <td>Middle East</td>\n",
       "        <td>83600.0</td>\n",
       "        <td>1971</td>\n",
       "        <td>Al-Imarat al-´Arabiya al-Muttahida</td>\n",
       "        <td>Emirate Federation</td>\n",
       "        <td>Abu Dhabi</td>\n",
       "        <td>54.3705</td>\n",
       "        <td>24.4764</td>\n",
       "    </tr>\n",
       "    <tr>\n",
       "        <td>Abuja</td>\n",
       "        <td>NGA</td>\n",
       "        <td>1235880</td>\n",
       "        <td>6000000</td>\n",
       "        <td>1235880</td>\n",
       "        <td>NGA</td>\n",
       "        <td>Nigeria</td>\n",
       "        <td>Africa</td>\n",
       "        <td>Western Africa</td>\n",
       "        <td>923768.0</td>\n",
       "        <td>1960</td>\n",
       "        <td>Nigeria</td>\n",
       "        <td>Federal Republic</td>\n",
       "        <td>Abuja</td>\n",
       "        <td>7.48906</td>\n",
       "        <td>9.05804</td>\n",
       "    </tr>\n",
       "    <tr>\n",
       "        <td>Accra</td>\n",
       "        <td>GHA</td>\n",
       "        <td>2070463</td>\n",
       "        <td>4010054</td>\n",
       "        <td>2070463</td>\n",
       "        <td>GHA</td>\n",
       "        <td>Ghana</td>\n",
       "        <td>Africa</td>\n",
       "        <td>Western Africa</td>\n",
       "        <td>238533.0</td>\n",
       "        <td>1957</td>\n",
       "        <td>Ghana</td>\n",
       "        <td>Republic</td>\n",
       "        <td>Accra</td>\n",
       "        <td>-0.20795</td>\n",
       "        <td>5.57045</td>\n",
       "    </tr>\n",
       "    <tr>\n",
       "        <td>Addis Ababa</td>\n",
       "        <td>ETH</td>\n",
       "        <td>3103673</td>\n",
       "        <td>4567857</td>\n",
       "        <td>3103673</td>\n",
       "        <td>ETH</td>\n",
       "        <td>Ethiopia</td>\n",
       "        <td>Africa</td>\n",
       "        <td>Eastern Africa</td>\n",
       "        <td>1104300.0</td>\n",
       "        <td>-1000</td>\n",
       "        <td>YeItyop´iya</td>\n",
       "        <td>Republic</td>\n",
       "        <td>Addis Ababa</td>\n",
       "        <td>38.7468</td>\n",
       "        <td>9.022739999999999</td>\n",
       "    </tr>\n",
       "</table>"
      ],
      "text/plain": [
       "[('Abidjan', 'CIV', 4765000, None, 4765000, 'CIV', \"Cote d'Ivoire\", 'Africa', 'Western Africa', 322463.0, 1960, 'Cote d\\x92Ivoire', 'Republic', 'Yamoussoukro', -4.0305, 5.332000000000001),\n",
       " ('Abu Dhabi', 'ARE', 1145000, None, 1145000, 'ARE', 'United Arab Emirates', 'Asia', 'Middle East', 83600.0, 1971, 'Al-Imarat al-´Arabiya al-Muttahida', 'Emirate Federation', 'Abu Dhabi', 54.3705, 24.4764),\n",
       " ('Abuja', 'NGA', 1235880, 6000000, 1235880, 'NGA', 'Nigeria', 'Africa', 'Western Africa', 923768.0, 1960, 'Nigeria', 'Federal Republic', 'Abuja', 7.48906, 9.05804),\n",
       " ('Accra', 'GHA', 2070463, 4010054, 2070463, 'GHA', 'Ghana', 'Africa', 'Western Africa', 238533.0, 1957, 'Ghana', 'Republic', 'Accra', -0.20795, 5.57045),\n",
       " ('Addis Ababa', 'ETH', 3103673, 4567857, 3103673, 'ETH', 'Ethiopia', 'Africa', 'Eastern Africa', 1104300.0, -1000, 'YeItyop´iya', 'Republic', 'Addis Ababa', 38.7468, 9.022739999999999)]"
      ]
     },
     "execution_count": 52,
     "metadata": {},
     "output_type": "execute_result"
    }
   ],
   "source": [
    "%sql select * from cities inner join countries on cities.country_code = countries.code limit 5;"
   ]
  },
  {
   "cell_type": "code",
   "execution_count": 53,
   "metadata": {},
   "outputs": [
    {
     "name": "stdout",
     "output_type": "stream",
     "text": [
      " * sqlite:///db1.db\n",
      "Done.\n"
     ]
    },
    {
     "data": {
      "text/html": [
       "<table>\n",
       "    <tr>\n",
       "        <th>city</th>\n",
       "        <th>country</th>\n",
       "        <th>region</th>\n",
       "    </tr>\n",
       "    <tr>\n",
       "        <td>Abidjan</td>\n",
       "        <td>Cote d&#x27;Ivoire</td>\n",
       "        <td>Western Africa</td>\n",
       "    </tr>\n",
       "    <tr>\n",
       "        <td>Abu Dhabi</td>\n",
       "        <td>United Arab Emirates</td>\n",
       "        <td>Middle East</td>\n",
       "    </tr>\n",
       "    <tr>\n",
       "        <td>Abuja</td>\n",
       "        <td>Nigeria</td>\n",
       "        <td>Western Africa</td>\n",
       "    </tr>\n",
       "    <tr>\n",
       "        <td>Accra</td>\n",
       "        <td>Ghana</td>\n",
       "        <td>Western Africa</td>\n",
       "    </tr>\n",
       "    <tr>\n",
       "        <td>Addis Ababa</td>\n",
       "        <td>Ethiopia</td>\n",
       "        <td>Eastern Africa</td>\n",
       "    </tr>\n",
       "</table>"
      ],
      "text/plain": [
       "[('Abidjan', \"Cote d'Ivoire\", 'Western Africa'),\n",
       " ('Abu Dhabi', 'United Arab Emirates', 'Middle East'),\n",
       " ('Abuja', 'Nigeria', 'Western Africa'),\n",
       " ('Accra', 'Ghana', 'Western Africa'),\n",
       " ('Addis Ababa', 'Ethiopia', 'Eastern Africa')]"
      ]
     },
     "execution_count": 53,
     "metadata": {},
     "output_type": "execute_result"
    }
   ],
   "source": [
    "%%sql\n",
    "select cities.name as city, countries.Country_name as country, region\n",
    "from cities inner join countries\n",
    "on cities.country_code = countries.code\n",
    "limit 5"
   ]
  },
  {
   "cell_type": "code",
   "execution_count": 54,
   "metadata": {},
   "outputs": [
    {
     "name": "stdout",
     "output_type": "stream",
     "text": [
      " * sqlite:///db1.db\n",
      "Done.\n"
     ]
    },
    {
     "data": {
      "text/html": [
       "<table>\n",
       "    <tr>\n",
       "        <th>econ_id</th>\n",
       "        <th>code</th>\n",
       "        <th>year</th>\n",
       "        <th>income_group</th>\n",
       "        <th>gdp_percapita</th>\n",
       "        <th>gross_savings</th>\n",
       "        <th>inflation_rate</th>\n",
       "        <th>total_investment</th>\n",
       "        <th>unemployment_rate</th>\n",
       "        <th>exports</th>\n",
       "        <th>imports</th>\n",
       "    </tr>\n",
       "    <tr>\n",
       "        <td>1</td>\n",
       "        <td>AFG</td>\n",
       "        <td>2010</td>\n",
       "        <td>Low income</td>\n",
       "        <td>539.6669999999999</td>\n",
       "        <td>37.133</td>\n",
       "        <td>2.1790000000000003</td>\n",
       "        <td>30.401999999999997</td>\n",
       "        <td>None</td>\n",
       "        <td>46.394</td>\n",
       "        <td>24.381</td>\n",
       "    </tr>\n",
       "    <tr>\n",
       "        <td>2</td>\n",
       "        <td>AFG</td>\n",
       "        <td>2015</td>\n",
       "        <td>Low income</td>\n",
       "        <td>615.091</td>\n",
       "        <td>21.465999999999998</td>\n",
       "        <td>-1.5490000000000002</td>\n",
       "        <td>18.602</td>\n",
       "        <td>None</td>\n",
       "        <td>-49.11</td>\n",
       "        <td>-7.294</td>\n",
       "    </tr>\n",
       "    <tr>\n",
       "        <td>3</td>\n",
       "        <td>AGO</td>\n",
       "        <td>2010</td>\n",
       "        <td>Upper middle income</td>\n",
       "        <td>3599.27</td>\n",
       "        <td>23.534000000000002</td>\n",
       "        <td>14.48</td>\n",
       "        <td>14.433</td>\n",
       "        <td>None</td>\n",
       "        <td>-3.266</td>\n",
       "        <td>-21.076</td>\n",
       "    </tr>\n",
       "    <tr>\n",
       "        <td>4</td>\n",
       "        <td>AGO</td>\n",
       "        <td>2015</td>\n",
       "        <td>Upper middle income</td>\n",
       "        <td>3876.2</td>\n",
       "        <td>-0.425</td>\n",
       "        <td>10.287</td>\n",
       "        <td>9.552</td>\n",
       "        <td>None</td>\n",
       "        <td>6.721</td>\n",
       "        <td>-21.778000000000002</td>\n",
       "    </tr>\n",
       "    <tr>\n",
       "        <td>5</td>\n",
       "        <td>ALB</td>\n",
       "        <td>2010</td>\n",
       "        <td>Upper middle income</td>\n",
       "        <td>4098.13</td>\n",
       "        <td>20.011</td>\n",
       "        <td>3.605</td>\n",
       "        <td>31.305</td>\n",
       "        <td>14.0</td>\n",
       "        <td>10.645</td>\n",
       "        <td>-8.013</td>\n",
       "    </tr>\n",
       "</table>"
      ],
      "text/plain": [
       "[(1, 'AFG', 2010, 'Low income', 539.6669999999999, 37.133, 2.1790000000000003, 30.401999999999997, None, 46.394, 24.381),\n",
       " (2, 'AFG', 2015, 'Low income', 615.091, 21.465999999999998, -1.5490000000000002, 18.602, None, -49.11, -7.294),\n",
       " (3, 'AGO', 2010, 'Upper middle income', 3599.27, 23.534000000000002, 14.48, 14.433, None, -3.266, -21.076),\n",
       " (4, 'AGO', 2015, 'Upper middle income', 3876.2, -0.425, 10.287, 9.552, None, 6.721, -21.778000000000002),\n",
       " (5, 'ALB', 2010, 'Upper middle income', 4098.13, 20.011, 3.605, 31.305, 14.0, 10.645, -8.013)]"
      ]
     },
     "execution_count": 54,
     "metadata": {},
     "output_type": "execute_result"
    }
   ],
   "source": [
    "%sql select * from economies limit 5;"
   ]
  },
  {
   "cell_type": "code",
   "execution_count": 55,
   "metadata": {},
   "outputs": [
    {
     "name": "stdout",
     "output_type": "stream",
     "text": [
      " * sqlite:///db1.db\n",
      "Done.\n"
     ]
    },
    {
     "data": {
      "text/html": [
       "<table>\n",
       "    <tr>\n",
       "        <th>country_code</th>\n",
       "        <th>country_name</th>\n",
       "        <th>year</th>\n",
       "        <th>inflation_rate</th>\n",
       "    </tr>\n",
       "    <tr>\n",
       "        <td>AFG</td>\n",
       "        <td>Afghanistan</td>\n",
       "        <td>2010</td>\n",
       "        <td>2.1790000000000003</td>\n",
       "    </tr>\n",
       "    <tr>\n",
       "        <td>AFG</td>\n",
       "        <td>Afghanistan</td>\n",
       "        <td>2015</td>\n",
       "        <td>-1.5490000000000002</td>\n",
       "    </tr>\n",
       "    <tr>\n",
       "        <td>NLD</td>\n",
       "        <td>Netherlands</td>\n",
       "        <td>2010</td>\n",
       "        <td>0.932</td>\n",
       "    </tr>\n",
       "    <tr>\n",
       "        <td>NLD</td>\n",
       "        <td>Netherlands</td>\n",
       "        <td>2015</td>\n",
       "        <td>0.22</td>\n",
       "    </tr>\n",
       "    <tr>\n",
       "        <td>ALB</td>\n",
       "        <td>Albania</td>\n",
       "        <td>2010</td>\n",
       "        <td>3.605</td>\n",
       "    </tr>\n",
       "</table>"
      ],
      "text/plain": [
       "[('AFG', 'Afghanistan', 2010, 2.1790000000000003),\n",
       " ('AFG', 'Afghanistan', 2015, -1.5490000000000002),\n",
       " ('NLD', 'Netherlands', 2010, 0.932),\n",
       " ('NLD', 'Netherlands', 2015, 0.22),\n",
       " ('ALB', 'Albania', 2010, 3.605)]"
      ]
     },
     "execution_count": 55,
     "metadata": {},
     "output_type": "execute_result"
    }
   ],
   "source": [
    "%%sql\n",
    "select c.code as country_code, country_name,year,inflation_rate\n",
    "from countries as c\n",
    "inner join economies as e\n",
    "on c.code = e.code\n",
    "limit 5"
   ]
  },
  {
   "cell_type": "markdown",
   "metadata": {},
   "source": [
    "- Inner join countries (left) and populations (right) on the code and country_code fields respectively.\n",
    "- Alias countries AS c and populations AS p.\n",
    "- Select code, name, and region from countries and also select year and fertility_rate from populations (5 fields in total)."
   ]
  },
  {
   "cell_type": "code",
   "execution_count": 56,
   "metadata": {},
   "outputs": [
    {
     "name": "stdout",
     "output_type": "stream",
     "text": [
      " * sqlite:///db1.db\n",
      "Done.\n"
     ]
    },
    {
     "data": {
      "text/html": [
       "<table>\n",
       "    <tr>\n",
       "        <th>pop_id</th>\n",
       "        <th>country_code</th>\n",
       "        <th>year</th>\n",
       "        <th>fertility_rate</th>\n",
       "        <th>life_expectancy</th>\n",
       "        <th>size</th>\n",
       "    </tr>\n",
       "    <tr>\n",
       "        <td>20</td>\n",
       "        <td>ABW</td>\n",
       "        <td>2010</td>\n",
       "        <td>1.704</td>\n",
       "        <td>74.95353658536591</td>\n",
       "        <td>101597</td>\n",
       "    </tr>\n",
       "    <tr>\n",
       "        <td>19</td>\n",
       "        <td>ABW</td>\n",
       "        <td>2015</td>\n",
       "        <td>1.6469999999999998</td>\n",
       "        <td>75.5735853658537</td>\n",
       "        <td>103889</td>\n",
       "    </tr>\n",
       "    <tr>\n",
       "        <td>2</td>\n",
       "        <td>AFG</td>\n",
       "        <td>2010</td>\n",
       "        <td>5.746</td>\n",
       "        <td>58.970829268292704</td>\n",
       "        <td>27962207</td>\n",
       "    </tr>\n",
       "    <tr>\n",
       "        <td>1</td>\n",
       "        <td>AFG</td>\n",
       "        <td>2015</td>\n",
       "        <td>4.6530000000000005</td>\n",
       "        <td>60.7171707317073</td>\n",
       "        <td>32526562</td>\n",
       "    </tr>\n",
       "    <tr>\n",
       "        <td>12</td>\n",
       "        <td>AGO</td>\n",
       "        <td>2010</td>\n",
       "        <td>6.416</td>\n",
       "        <td>50.654170731707296</td>\n",
       "        <td>21219954</td>\n",
       "    </tr>\n",
       "</table>"
      ],
      "text/plain": [
       "[(20, 'ABW', 2010, 1.704, 74.95353658536591, 101597),\n",
       " (19, 'ABW', 2015, 1.6469999999999998, 75.5735853658537, 103889),\n",
       " (2, 'AFG', 2010, 5.746, 58.970829268292704, 27962207),\n",
       " (1, 'AFG', 2015, 4.6530000000000005, 60.7171707317073, 32526562),\n",
       " (12, 'AGO', 2010, 6.416, 50.654170731707296, 21219954)]"
      ]
     },
     "execution_count": 56,
     "metadata": {},
     "output_type": "execute_result"
    }
   ],
   "source": [
    "%sql select * from populations limit 5;"
   ]
  },
  {
   "cell_type": "code",
   "execution_count": 57,
   "metadata": {},
   "outputs": [
    {
     "name": "stdout",
     "output_type": "stream",
     "text": [
      " * sqlite:///db1.db\n",
      "Done.\n"
     ]
    },
    {
     "data": {
      "text/html": [
       "<table>\n",
       "    <tr>\n",
       "        <th>code</th>\n",
       "        <th>country_name</th>\n",
       "        <th>region</th>\n",
       "        <th>fertility_rate</th>\n",
       "        <th>year</th>\n",
       "    </tr>\n",
       "    <tr>\n",
       "        <td>AFG</td>\n",
       "        <td>Afghanistan</td>\n",
       "        <td>Southern and Central Asia</td>\n",
       "        <td>5.746</td>\n",
       "        <td>2010</td>\n",
       "    </tr>\n",
       "    <tr>\n",
       "        <td>AFG</td>\n",
       "        <td>Afghanistan</td>\n",
       "        <td>Southern and Central Asia</td>\n",
       "        <td>4.6530000000000005</td>\n",
       "        <td>2015</td>\n",
       "    </tr>\n",
       "    <tr>\n",
       "        <td>NLD</td>\n",
       "        <td>Netherlands</td>\n",
       "        <td>Western Europe</td>\n",
       "        <td>1.79</td>\n",
       "        <td>2010</td>\n",
       "    </tr>\n",
       "    <tr>\n",
       "        <td>NLD</td>\n",
       "        <td>Netherlands</td>\n",
       "        <td>Western Europe</td>\n",
       "        <td>1.71</td>\n",
       "        <td>2015</td>\n",
       "    </tr>\n",
       "    <tr>\n",
       "        <td>ALB</td>\n",
       "        <td>Albania</td>\n",
       "        <td>Southern Europe</td>\n",
       "        <td>1.663</td>\n",
       "        <td>2010</td>\n",
       "    </tr>\n",
       "</table>"
      ],
      "text/plain": [
       "[('AFG', 'Afghanistan', 'Southern and Central Asia', 5.746, 2010),\n",
       " ('AFG', 'Afghanistan', 'Southern and Central Asia', 4.6530000000000005, 2015),\n",
       " ('NLD', 'Netherlands', 'Western Europe', 1.79, 2010),\n",
       " ('NLD', 'Netherlands', 'Western Europe', 1.71, 2015),\n",
       " ('ALB', 'Albania', 'Southern Europe', 1.663, 2010)]"
      ]
     },
     "execution_count": 57,
     "metadata": {},
     "output_type": "execute_result"
    }
   ],
   "source": [
    "%%sql\n",
    "select c.code, c.country_name, c.region, p.fertility_rate, p.year from countries as c\n",
    "inner join populations as p\n",
    "on c.code = p.country_code\n",
    "limit 5"
   ]
  },
  {
   "cell_type": "markdown",
   "metadata": {},
   "source": [
    "### Inner join with using\n",
    "When joining tables with common names"
   ]
  },
  {
   "cell_type": "code",
   "execution_count": 58,
   "metadata": {},
   "outputs": [
    {
     "name": "stdout",
     "output_type": "stream",
     "text": [
      " * sqlite:///db1.db\n",
      "Done.\n"
     ]
    },
    {
     "data": {
      "text/html": [
       "<table>\n",
       "    <tr>\n",
       "        <th>lang_id</th>\n",
       "        <th>code</th>\n",
       "        <th>name</th>\n",
       "        <th>percent</th>\n",
       "        <th>official</th>\n",
       "    </tr>\n",
       "    <tr>\n",
       "        <td>1</td>\n",
       "        <td>AFG</td>\n",
       "        <td>Dari</td>\n",
       "        <td>50.0</td>\n",
       "        <td>1</td>\n",
       "    </tr>\n",
       "    <tr>\n",
       "        <td>2</td>\n",
       "        <td>AFG</td>\n",
       "        <td>Pashto</td>\n",
       "        <td>35.0</td>\n",
       "        <td>1</td>\n",
       "    </tr>\n",
       "    <tr>\n",
       "        <td>3</td>\n",
       "        <td>AFG</td>\n",
       "        <td>Turkic</td>\n",
       "        <td>11.0</td>\n",
       "        <td>0</td>\n",
       "    </tr>\n",
       "    <tr>\n",
       "        <td>4</td>\n",
       "        <td>AFG</td>\n",
       "        <td>Other</td>\n",
       "        <td>4.0</td>\n",
       "        <td>0</td>\n",
       "    </tr>\n",
       "    <tr>\n",
       "        <td>5</td>\n",
       "        <td>ALB</td>\n",
       "        <td>Albanian</td>\n",
       "        <td>98.8</td>\n",
       "        <td>1</td>\n",
       "    </tr>\n",
       "</table>"
      ],
      "text/plain": [
       "[(1, 'AFG', 'Dari', 50.0, 1),\n",
       " (2, 'AFG', 'Pashto', 35.0, 1),\n",
       " (3, 'AFG', 'Turkic', 11.0, 0),\n",
       " (4, 'AFG', 'Other', 4.0, 0),\n",
       " (5, 'ALB', 'Albanian', 98.8, 1)]"
      ]
     },
     "execution_count": 58,
     "metadata": {},
     "output_type": "execute_result"
    }
   ],
   "source": [
    "%sql select * from languages limit 5;"
   ]
  },
  {
   "cell_type": "markdown",
   "metadata": {},
   "source": [
    "Inner join countries on the left and languages on the right with USING(code)"
   ]
  },
  {
   "cell_type": "code",
   "execution_count": 59,
   "metadata": {},
   "outputs": [
    {
     "name": "stdout",
     "output_type": "stream",
     "text": [
      " * sqlite:///db1.db\n",
      "Done.\n"
     ]
    },
    {
     "data": {
      "text/html": [
       "<table>\n",
       "    <tr>\n",
       "        <th>country</th>\n",
       "        <th>continent</th>\n",
       "        <th>language</th>\n",
       "        <th>official</th>\n",
       "    </tr>\n",
       "    <tr>\n",
       "        <td>Afghanistan</td>\n",
       "        <td>Asia</td>\n",
       "        <td>Dari</td>\n",
       "        <td>1</td>\n",
       "    </tr>\n",
       "    <tr>\n",
       "        <td>Afghanistan</td>\n",
       "        <td>Asia</td>\n",
       "        <td>Other</td>\n",
       "        <td>0</td>\n",
       "    </tr>\n",
       "    <tr>\n",
       "        <td>Afghanistan</td>\n",
       "        <td>Asia</td>\n",
       "        <td>Pashto</td>\n",
       "        <td>1</td>\n",
       "    </tr>\n",
       "    <tr>\n",
       "        <td>Afghanistan</td>\n",
       "        <td>Asia</td>\n",
       "        <td>Turkic</td>\n",
       "        <td>0</td>\n",
       "    </tr>\n",
       "    <tr>\n",
       "        <td>Netherlands</td>\n",
       "        <td>Europe</td>\n",
       "        <td>Dutch</td>\n",
       "        <td>1</td>\n",
       "    </tr>\n",
       "</table>"
      ],
      "text/plain": [
       "[('Afghanistan', 'Asia', 'Dari', 1),\n",
       " ('Afghanistan', 'Asia', 'Other', 0),\n",
       " ('Afghanistan', 'Asia', 'Pashto', 1),\n",
       " ('Afghanistan', 'Asia', 'Turkic', 0),\n",
       " ('Netherlands', 'Europe', 'Dutch', 1)]"
      ]
     },
     "execution_count": 59,
     "metadata": {},
     "output_type": "execute_result"
    }
   ],
   "source": [
    "%%sql\n",
    "select country_name as country, continent, l.name as language, official\n",
    "from countries as c\n",
    "inner join languages as l\n",
    "using (code)\n",
    "limit 5"
   ]
  },
  {
   "cell_type": "markdown",
   "metadata": {},
   "source": [
    "### Self-join\n",
    "Use the populations table to perform a self-join to calculate the percentage increase in population from 2010 to 2015 for each country code\n",
    "\n",
    "As joining the populations table to itself, you can alias populations as p1 and also populations as p2. This is good practice whenever you are aliasing and your tables have the same first letter. Note that you are required to alias the tables with self-joins."
   ]
  },
  {
   "cell_type": "code",
   "execution_count": 60,
   "metadata": {},
   "outputs": [
    {
     "name": "stdout",
     "output_type": "stream",
     "text": [
      " * sqlite:///db1.db\n",
      "Done.\n"
     ]
    },
    {
     "data": {
      "text/html": [
       "<table>\n",
       "    <tr>\n",
       "        <th>pop_id</th>\n",
       "        <th>country_code</th>\n",
       "        <th>year</th>\n",
       "        <th>fertility_rate</th>\n",
       "        <th>life_expectancy</th>\n",
       "        <th>size</th>\n",
       "    </tr>\n",
       "    <tr>\n",
       "        <td>20</td>\n",
       "        <td>ABW</td>\n",
       "        <td>2010</td>\n",
       "        <td>1.704</td>\n",
       "        <td>74.95353658536591</td>\n",
       "        <td>101597</td>\n",
       "    </tr>\n",
       "    <tr>\n",
       "        <td>19</td>\n",
       "        <td>ABW</td>\n",
       "        <td>2015</td>\n",
       "        <td>1.6469999999999998</td>\n",
       "        <td>75.5735853658537</td>\n",
       "        <td>103889</td>\n",
       "    </tr>\n",
       "</table>"
      ],
      "text/plain": [
       "[(20, 'ABW', 2010, 1.704, 74.95353658536591, 101597),\n",
       " (19, 'ABW', 2015, 1.6469999999999998, 75.5735853658537, 103889)]"
      ]
     },
     "execution_count": 60,
     "metadata": {},
     "output_type": "execute_result"
    }
   ],
   "source": [
    "%sql select * from populations limit 2;"
   ]
  },
  {
   "cell_type": "code",
   "execution_count": 61,
   "metadata": {},
   "outputs": [
    {
     "name": "stdout",
     "output_type": "stream",
     "text": [
      " * sqlite:///db1.db\n",
      "Done.\n"
     ]
    },
    {
     "data": {
      "text/html": [
       "<table>\n",
       "    <tr>\n",
       "        <th>country_code</th>\n",
       "        <th>size2010</th>\n",
       "        <th>size2015</th>\n",
       "    </tr>\n",
       "    <tr>\n",
       "        <td>ABW</td>\n",
       "        <td>101597</td>\n",
       "        <td>101597</td>\n",
       "    </tr>\n",
       "    <tr>\n",
       "        <td>ABW</td>\n",
       "        <td>101597</td>\n",
       "        <td>103889</td>\n",
       "    </tr>\n",
       "    <tr>\n",
       "        <td>ABW</td>\n",
       "        <td>103889</td>\n",
       "        <td>101597</td>\n",
       "    </tr>\n",
       "    <tr>\n",
       "        <td>ABW</td>\n",
       "        <td>103889</td>\n",
       "        <td>103889</td>\n",
       "    </tr>\n",
       "    <tr>\n",
       "        <td>AFG</td>\n",
       "        <td>27962207</td>\n",
       "        <td>27962207</td>\n",
       "    </tr>\n",
       "</table>"
      ],
      "text/plain": [
       "[('ABW', 101597, 101597),\n",
       " ('ABW', 101597, 103889),\n",
       " ('ABW', 103889, 101597),\n",
       " ('ABW', 103889, 103889),\n",
       " ('AFG', 27962207, 27962207)]"
      ]
     },
     "execution_count": 61,
     "metadata": {},
     "output_type": "execute_result"
    }
   ],
   "source": [
    "%%sql\n",
    "select p1.country_code, p1.size as size2010, p2.size as size2015\n",
    "from populations as p1\n",
    "inner join populations as p2\n",
    "on p1.country_code = p2.country_code\n",
    "limit 5;"
   ]
  },
  {
   "cell_type": "markdown",
   "metadata": {},
   "source": [
    "Extend the ON in your query to include only those records where the p1.year (2010) matches with p2.year - 5 (2015 - 5 = 2010). This will omit the three entries per country_code that you aren't interested in."
   ]
  },
  {
   "cell_type": "code",
   "execution_count": 62,
   "metadata": {},
   "outputs": [
    {
     "name": "stdout",
     "output_type": "stream",
     "text": [
      " * sqlite:///db1.db\n",
      "Done.\n"
     ]
    },
    {
     "data": {
      "text/html": [
       "<table>\n",
       "    <tr>\n",
       "        <th>country_code</th>\n",
       "        <th>size2010</th>\n",
       "        <th>size2015</th>\n",
       "    </tr>\n",
       "    <tr>\n",
       "        <td>ABW</td>\n",
       "        <td>101597</td>\n",
       "        <td>103889</td>\n",
       "    </tr>\n",
       "    <tr>\n",
       "        <td>AFG</td>\n",
       "        <td>27962207</td>\n",
       "        <td>32526562</td>\n",
       "    </tr>\n",
       "    <tr>\n",
       "        <td>AGO</td>\n",
       "        <td>21219954</td>\n",
       "        <td>25021974</td>\n",
       "    </tr>\n",
       "    <tr>\n",
       "        <td>ALB</td>\n",
       "        <td>2913021</td>\n",
       "        <td>2889167</td>\n",
       "    </tr>\n",
       "    <tr>\n",
       "        <td>AND</td>\n",
       "        <td>84419</td>\n",
       "        <td>70473</td>\n",
       "    </tr>\n",
       "</table>"
      ],
      "text/plain": [
       "[('ABW', 101597, 103889),\n",
       " ('AFG', 27962207, 32526562),\n",
       " ('AGO', 21219954, 25021974),\n",
       " ('ALB', 2913021, 2889167),\n",
       " ('AND', 84419, 70473)]"
      ]
     },
     "execution_count": 62,
     "metadata": {},
     "output_type": "execute_result"
    }
   ],
   "source": [
    "%%sql\n",
    "select p1.country_code, p1.size as size2010, p2.size as size2015\n",
    "from populations as p1\n",
    "inner join populations as p2\n",
    "on p1.country_code = p2.country_code\n",
    "and p1.year = p2.year - 5\n",
    "limit 5;"
   ]
  },
  {
   "cell_type": "markdown",
   "metadata": {},
   "source": [
    "Add a new field to SELECT, aliased as growth_perc, that calculates the percentage population growth from 2010 to 2015 for each country, using p2.size and p1.size."
   ]
  },
  {
   "cell_type": "code",
   "execution_count": 63,
   "metadata": {},
   "outputs": [
    {
     "name": "stdout",
     "output_type": "stream",
     "text": [
      " * sqlite:///db1.db\n",
      "Done.\n"
     ]
    },
    {
     "data": {
      "text/html": [
       "<table>\n",
       "    <tr>\n",
       "        <th>country_code</th>\n",
       "        <th>size2010</th>\n",
       "        <th>size2015</th>\n",
       "        <th>growth_perc</th>\n",
       "    </tr>\n",
       "    <tr>\n",
       "        <td>ABW</td>\n",
       "        <td>101597</td>\n",
       "        <td>103889</td>\n",
       "        <td>2.255972125161176</td>\n",
       "    </tr>\n",
       "    <tr>\n",
       "        <td>AFG</td>\n",
       "        <td>27962207</td>\n",
       "        <td>32526562</td>\n",
       "        <td>16.3233002316305</td>\n",
       "    </tr>\n",
       "    <tr>\n",
       "        <td>AGO</td>\n",
       "        <td>21219954</td>\n",
       "        <td>25021974</td>\n",
       "        <td>17.917192468937493</td>\n",
       "    </tr>\n",
       "    <tr>\n",
       "        <td>ALB</td>\n",
       "        <td>2913021</td>\n",
       "        <td>2889167</td>\n",
       "        <td>-0.8188749754979453</td>\n",
       "    </tr>\n",
       "    <tr>\n",
       "        <td>AND</td>\n",
       "        <td>84419</td>\n",
       "        <td>70473</td>\n",
       "        <td>-16.519977730131842</td>\n",
       "    </tr>\n",
       "</table>"
      ],
      "text/plain": [
       "[('ABW', 101597, 103889, 2.255972125161176),\n",
       " ('AFG', 27962207, 32526562, 16.3233002316305),\n",
       " ('AGO', 21219954, 25021974, 17.917192468937493),\n",
       " ('ALB', 2913021, 2889167, -0.8188749754979453),\n",
       " ('AND', 84419, 70473, -16.519977730131842)]"
      ]
     },
     "execution_count": 63,
     "metadata": {},
     "output_type": "execute_result"
    }
   ],
   "source": [
    "%%sql\n",
    "select p1.country_code, p1.size as size2010, p2.size as size2015,\n",
    "(p2.size - p1.size)/ ((p1.size*1.0))*100 AS growth_perc\n",
    "from populations as p1\n",
    "inner join populations as p2\n",
    "on p1.country_code = p2.country_code\n",
    "and p1.year = p2.year - 5\n",
    "limit 5;"
   ]
  },
  {
   "cell_type": "markdown",
   "metadata": {},
   "source": [
    "### CASE\n",
    "Using the countries table, create a new field AS geosize_group that groups the countries into three groups:\n",
    "\n",
    "- If surface_area is greater than 2 million, geosize_group is 'large'.\n",
    "- If surface_area is greater than 350 thousand but not larger than 2 million, geosize_group is 'medium'.\n",
    "- Otherwise, geosize_group is 'small'"
   ]
  },
  {
   "cell_type": "code",
   "execution_count": 64,
   "metadata": {},
   "outputs": [
    {
     "name": "stdout",
     "output_type": "stream",
     "text": [
      " * sqlite:///db1.db\n",
      "Done.\n"
     ]
    },
    {
     "data": {
      "text/html": [
       "<table>\n",
       "    <tr>\n",
       "        <th>code</th>\n",
       "        <th>country_name</th>\n",
       "        <th>continent</th>\n",
       "        <th>region</th>\n",
       "        <th>surface_area</th>\n",
       "        <th>indep_year</th>\n",
       "        <th>local_name</th>\n",
       "        <th>gov_form</th>\n",
       "        <th>capital</th>\n",
       "        <th>cap_long</th>\n",
       "        <th>cap_lat</th>\n",
       "    </tr>\n",
       "    <tr>\n",
       "        <td>AFG</td>\n",
       "        <td>Afghanistan</td>\n",
       "        <td>Asia</td>\n",
       "        <td>Southern and Central Asia</td>\n",
       "        <td>652090.0</td>\n",
       "        <td>1919</td>\n",
       "        <td>Afganistan/Afqanestan</td>\n",
       "        <td>Islamic Emirate</td>\n",
       "        <td>Kabul</td>\n",
       "        <td>69.1761</td>\n",
       "        <td>34.5228</td>\n",
       "    </tr>\n",
       "    <tr>\n",
       "        <td>NLD</td>\n",
       "        <td>Netherlands</td>\n",
       "        <td>Europe</td>\n",
       "        <td>Western Europe</td>\n",
       "        <td>41526.0</td>\n",
       "        <td>1581</td>\n",
       "        <td>Nederland</td>\n",
       "        <td>Constitutional Monarchy</td>\n",
       "        <td>Amsterdam</td>\n",
       "        <td>4.89095</td>\n",
       "        <td>52.3738</td>\n",
       "    </tr>\n",
       "    <tr>\n",
       "        <td>ALB</td>\n",
       "        <td>Albania</td>\n",
       "        <td>Europe</td>\n",
       "        <td>Southern Europe</td>\n",
       "        <td>28748.0</td>\n",
       "        <td>1912</td>\n",
       "        <td>Shqiperia</td>\n",
       "        <td>Republic</td>\n",
       "        <td>Tirane</td>\n",
       "        <td>19.8172</td>\n",
       "        <td>41.3317</td>\n",
       "    </tr>\n",
       "    <tr>\n",
       "        <td>DZA</td>\n",
       "        <td>Algeria</td>\n",
       "        <td>Africa</td>\n",
       "        <td>Northern Africa</td>\n",
       "        <td>2381740.0</td>\n",
       "        <td>1962</td>\n",
       "        <td>Al-Jazair/Algerie</td>\n",
       "        <td>Republic</td>\n",
       "        <td>Algiers</td>\n",
       "        <td>3.05097</td>\n",
       "        <td>36.7397</td>\n",
       "    </tr>\n",
       "    <tr>\n",
       "        <td>ASM</td>\n",
       "        <td>American Samoa</td>\n",
       "        <td>Oceania</td>\n",
       "        <td>Polynesia</td>\n",
       "        <td>199.0</td>\n",
       "        <td>None</td>\n",
       "        <td>Amerika Samoa</td>\n",
       "        <td>US Territory</td>\n",
       "        <td>Pago Pago</td>\n",
       "        <td>-170.69099999999997</td>\n",
       "        <td>-14.2846</td>\n",
       "    </tr>\n",
       "</table>"
      ],
      "text/plain": [
       "[('AFG', 'Afghanistan', 'Asia', 'Southern and Central Asia', 652090.0, 1919, 'Afganistan/Afqanestan', 'Islamic Emirate', 'Kabul', 69.1761, 34.5228),\n",
       " ('NLD', 'Netherlands', 'Europe', 'Western Europe', 41526.0, 1581, 'Nederland', 'Constitutional Monarchy', 'Amsterdam', 4.89095, 52.3738),\n",
       " ('ALB', 'Albania', 'Europe', 'Southern Europe', 28748.0, 1912, 'Shqiperia', 'Republic', 'Tirane', 19.8172, 41.3317),\n",
       " ('DZA', 'Algeria', 'Africa', 'Northern Africa', 2381740.0, 1962, 'Al-Jaza\\x92ir/Algerie', 'Republic', 'Algiers', 3.05097, 36.7397),\n",
       " ('ASM', 'American Samoa', 'Oceania', 'Polynesia', 199.0, None, 'Amerika Samoa', 'US Territory', 'Pago Pago', -170.69099999999997, -14.2846)]"
      ]
     },
     "execution_count": 64,
     "metadata": {},
     "output_type": "execute_result"
    }
   ],
   "source": [
    "%sql select * from countries limit 5;"
   ]
  },
  {
   "cell_type": "code",
   "execution_count": 65,
   "metadata": {},
   "outputs": [
    {
     "name": "stdout",
     "output_type": "stream",
     "text": [
      " * sqlite:///db1.db\n",
      "Done.\n"
     ]
    },
    {
     "data": {
      "text/html": [
       "<table>\n",
       "    <tr>\n",
       "        <th>country_name</th>\n",
       "        <th>continent</th>\n",
       "        <th>code</th>\n",
       "        <th>surface_area</th>\n",
       "        <th>geosize_group</th>\n",
       "    </tr>\n",
       "    <tr>\n",
       "        <td>Afghanistan</td>\n",
       "        <td>Asia</td>\n",
       "        <td>AFG</td>\n",
       "        <td>652090.0</td>\n",
       "        <td>medium</td>\n",
       "    </tr>\n",
       "    <tr>\n",
       "        <td>Netherlands</td>\n",
       "        <td>Europe</td>\n",
       "        <td>NLD</td>\n",
       "        <td>41526.0</td>\n",
       "        <td>small</td>\n",
       "    </tr>\n",
       "    <tr>\n",
       "        <td>Albania</td>\n",
       "        <td>Europe</td>\n",
       "        <td>ALB</td>\n",
       "        <td>28748.0</td>\n",
       "        <td>small</td>\n",
       "    </tr>\n",
       "    <tr>\n",
       "        <td>Algeria</td>\n",
       "        <td>Africa</td>\n",
       "        <td>DZA</td>\n",
       "        <td>2381740.0</td>\n",
       "        <td>large</td>\n",
       "    </tr>\n",
       "    <tr>\n",
       "        <td>American Samoa</td>\n",
       "        <td>Oceania</td>\n",
       "        <td>ASM</td>\n",
       "        <td>199.0</td>\n",
       "        <td>small</td>\n",
       "    </tr>\n",
       "</table>"
      ],
      "text/plain": [
       "[('Afghanistan', 'Asia', 'AFG', 652090.0, 'medium'),\n",
       " ('Netherlands', 'Europe', 'NLD', 41526.0, 'small'),\n",
       " ('Albania', 'Europe', 'ALB', 28748.0, 'small'),\n",
       " ('Algeria', 'Africa', 'DZA', 2381740.0, 'large'),\n",
       " ('American Samoa', 'Oceania', 'ASM', 199.0, 'small')]"
      ]
     },
     "execution_count": 65,
     "metadata": {},
     "output_type": "execute_result"
    }
   ],
   "source": [
    "%%sql\n",
    "SELECT country_name, continent, code, surface_area,\n",
    "    CASE WHEN surface_area > 2000000 THEN 'large'\n",
    "        WHEN surface_area > 350000 THEN 'medium'\n",
    "        ELSE 'small' END\n",
    "        AS geosize_group\n",
    "FROM countries\n",
    "limit 5;"
   ]
  },
  {
   "cell_type": "markdown",
   "metadata": {},
   "source": [
    "Using the populations table focused only for the year 2015, create a new field AS popsize_group to organize population size into\n",
    "\n",
    "- 'large' (> 50 million),\n",
    "- 'medium' (> 1 million), and\n",
    "- 'small' groups."
   ]
  },
  {
   "cell_type": "code",
   "execution_count": 66,
   "metadata": {},
   "outputs": [
    {
     "name": "stdout",
     "output_type": "stream",
     "text": [
      " * sqlite:///db1.db\n",
      "Done.\n"
     ]
    },
    {
     "data": {
      "text/html": [
       "<table>\n",
       "    <tr>\n",
       "        <th>country_code</th>\n",
       "        <th>size</th>\n",
       "        <th>popsize_group</th>\n",
       "    </tr>\n",
       "    <tr>\n",
       "        <td>ABW</td>\n",
       "        <td>103889</td>\n",
       "        <td>small</td>\n",
       "    </tr>\n",
       "    <tr>\n",
       "        <td>AFG</td>\n",
       "        <td>32526562</td>\n",
       "        <td>medium</td>\n",
       "    </tr>\n",
       "    <tr>\n",
       "        <td>AGO</td>\n",
       "        <td>25021974</td>\n",
       "        <td>medium</td>\n",
       "    </tr>\n",
       "    <tr>\n",
       "        <td>ALB</td>\n",
       "        <td>2889167</td>\n",
       "        <td>medium</td>\n",
       "    </tr>\n",
       "    <tr>\n",
       "        <td>AND</td>\n",
       "        <td>70473</td>\n",
       "        <td>small</td>\n",
       "    </tr>\n",
       "</table>"
      ],
      "text/plain": [
       "[('ABW', 103889, 'small'),\n",
       " ('AFG', 32526562, 'medium'),\n",
       " ('AGO', 25021974, 'medium'),\n",
       " ('ALB', 2889167, 'medium'),\n",
       " ('AND', 70473, 'small')]"
      ]
     },
     "execution_count": 66,
     "metadata": {},
     "output_type": "execute_result"
    }
   ],
   "source": [
    "%%sql \n",
    "SELECT country_code, size,\n",
    "    CASE WHEN  size > 50000000 THEN 'large'\n",
    "        WHEN size > 1000000 THEN 'medium'\n",
    "        ELSE 'small' END\n",
    "        AS popsize_group\n",
    "FROM populations\n",
    "WHERE year = 2015\n",
    "limit 5;"
   ]
  },
  {
   "cell_type": "markdown",
   "metadata": {},
   "source": [
    "Use INTO to save the result of the previous query as pop_plus."
   ]
  },
  {
   "cell_type": "code",
   "execution_count": 67,
   "metadata": {},
   "outputs": [
    {
     "name": "stdout",
     "output_type": "stream",
     "text": [
      " * sqlite:///db1.db\n",
      "Done.\n"
     ]
    },
    {
     "data": {
      "text/html": [
       "<table>\n",
       "    <tr>\n",
       "        <th>country_code</th>\n",
       "        <th>size</th>\n",
       "        <th>popsize_group</th>\n",
       "    </tr>\n",
       "    <tr>\n",
       "        <td>ABW</td>\n",
       "        <td>103889</td>\n",
       "        <td>small</td>\n",
       "    </tr>\n",
       "    <tr>\n",
       "        <td>AFG</td>\n",
       "        <td>32526562</td>\n",
       "        <td>medium</td>\n",
       "    </tr>\n",
       "    <tr>\n",
       "        <td>AGO</td>\n",
       "        <td>25021974</td>\n",
       "        <td>medium</td>\n",
       "    </tr>\n",
       "    <tr>\n",
       "        <td>ALB</td>\n",
       "        <td>2889167</td>\n",
       "        <td>medium</td>\n",
       "    </tr>\n",
       "    <tr>\n",
       "        <td>AND</td>\n",
       "        <td>70473</td>\n",
       "        <td>small</td>\n",
       "    </tr>\n",
       "</table>"
      ],
      "text/plain": [
       "[('ABW', 103889, 'small'),\n",
       " ('AFG', 32526562, 'medium'),\n",
       " ('AGO', 25021974, 'medium'),\n",
       " ('ALB', 2889167, 'medium'),\n",
       " ('AND', 70473, 'small')]"
      ]
     },
     "execution_count": 67,
     "metadata": {},
     "output_type": "execute_result"
    }
   ],
   "source": [
    "%%sql\n",
    "SELECT country_code, size,\n",
    "    CASE WHEN size > 50000000 THEN 'large'\n",
    "        WHEN size > 1000000 THEN 'medium'\n",
    "        ELSE 'small' END\n",
    "        AS popsize_group\n",
    "FROM populations\n",
    "WHERE year = 2015\n",
    "limit 5;"
   ]
  },
  {
   "cell_type": "markdown",
   "metadata": {},
   "source": [
    "### Left Join\n",
    "Perform inner join and a left join using the cities and countries tables.\n",
    "\n",
    "Performing an inner join with the cities table on the left and the countries table on the right."
   ]
  },
  {
   "cell_type": "code",
   "execution_count": 68,
   "metadata": {},
   "outputs": [],
   "source": [
    "#Select the city name (with alias), the country code,\n",
    "#the country name (with alias), the region,\n",
    "#and the city proper population"
   ]
  },
  {
   "cell_type": "code",
   "execution_count": 69,
   "metadata": {},
   "outputs": [
    {
     "name": "stdout",
     "output_type": "stream",
     "text": [
      " * sqlite:///db1.db\n",
      "Done.\n"
     ]
    },
    {
     "data": {
      "text/html": [
       "<table>\n",
       "    <tr>\n",
       "        <th>city</th>\n",
       "        <th>code</th>\n",
       "        <th>country</th>\n",
       "        <th>region</th>\n",
       "        <th>city_proper_pop</th>\n",
       "        <th>count(*)</th>\n",
       "    </tr>\n",
       "    <tr>\n",
       "        <td>Zunyi</td>\n",
       "        <td>CHN</td>\n",
       "        <td>China</td>\n",
       "        <td>Eastern Asia</td>\n",
       "        <td>6127009</td>\n",
       "        <td>230</td>\n",
       "    </tr>\n",
       "</table>"
      ],
      "text/plain": [
       "[('Zunyi', 'CHN', 'China', 'Eastern Asia', 6127009, 230)]"
      ]
     },
     "execution_count": 69,
     "metadata": {},
     "output_type": "execute_result"
    }
   ],
   "source": [
    "%%sql\n",
    "SELECT c1.name AS city, code, c2.country_name AS country,region, city_proper_pop, count(*)\n",
    "FROM cities AS c1\n",
    "INNER JOIN countries AS c2\n",
    "ON c1.country_code = c2.code\n",
    "ORDER BY code DESC\n",
    "limit 5;"
   ]
  },
  {
   "cell_type": "markdown",
   "metadata": {},
   "source": [
    "Change the code to perform a LEFT JOIN instead of an INNER JOIN"
   ]
  },
  {
   "cell_type": "code",
   "execution_count": 70,
   "metadata": {},
   "outputs": [
    {
     "name": "stdout",
     "output_type": "stream",
     "text": [
      " * sqlite:///db1.db\n",
      "Done.\n"
     ]
    },
    {
     "data": {
      "text/html": [
       "<table>\n",
       "    <tr>\n",
       "        <th>city</th>\n",
       "        <th>code</th>\n",
       "        <th>country</th>\n",
       "        <th>region</th>\n",
       "        <th>city_proper_pop</th>\n",
       "        <th>count(*)</th>\n",
       "    </tr>\n",
       "    <tr>\n",
       "        <td>Zunyi</td>\n",
       "        <td>CHN</td>\n",
       "        <td>China</td>\n",
       "        <td>Eastern Asia</td>\n",
       "        <td>6127009</td>\n",
       "        <td>236</td>\n",
       "    </tr>\n",
       "</table>"
      ],
      "text/plain": [
       "[('Zunyi', 'CHN', 'China', 'Eastern Asia', 6127009, 236)]"
      ]
     },
     "execution_count": 70,
     "metadata": {},
     "output_type": "execute_result"
    }
   ],
   "source": [
    "%%sql\n",
    "SELECT c1.name AS city, code, c2.country_name AS country,region, city_proper_pop,count(*)\n",
    "FROM cities AS c1\n",
    "LEFT JOIN countries AS c2\n",
    "ON c1.country_code = c2.code\n",
    "ORDER BY code DESC;"
   ]
  },
  {
   "cell_type": "markdown",
   "metadata": {},
   "source": [
    "Use AVG() function in combination with left join to determine the average gross domestic product (GDP) per capita by region in 2010."
   ]
  },
  {
   "cell_type": "code",
   "execution_count": 71,
   "metadata": {},
   "outputs": [
    {
     "name": "stdout",
     "output_type": "stream",
     "text": [
      " * sqlite:///db1.db\n",
      "Done.\n"
     ]
    },
    {
     "data": {
      "text/html": [
       "<table>\n",
       "    <tr>\n",
       "        <th>count(*)</th>\n",
       "    </tr>\n",
       "    <tr>\n",
       "        <td>206</td>\n",
       "    </tr>\n",
       "</table>"
      ],
      "text/plain": [
       "[(206,)]"
      ]
     },
     "execution_count": 71,
     "metadata": {},
     "output_type": "execute_result"
    }
   ],
   "source": [
    "%sql select count(*) from countries"
   ]
  },
  {
   "cell_type": "code",
   "execution_count": 72,
   "metadata": {},
   "outputs": [
    {
     "name": "stdout",
     "output_type": "stream",
     "text": [
      " * sqlite:///db1.db\n",
      "Done.\n"
     ]
    },
    {
     "data": {
      "text/html": [
       "<table>\n",
       "    <tr>\n",
       "        <th>count(*)</th>\n",
       "    </tr>\n",
       "    <tr>\n",
       "        <td>380</td>\n",
       "    </tr>\n",
       "</table>"
      ],
      "text/plain": [
       "[(380,)]"
      ]
     },
     "execution_count": 72,
     "metadata": {},
     "output_type": "execute_result"
    }
   ],
   "source": [
    "%sql select count(*) from economies"
   ]
  },
  {
   "cell_type": "code",
   "execution_count": 73,
   "metadata": {},
   "outputs": [
    {
     "name": "stdout",
     "output_type": "stream",
     "text": [
      " * sqlite:///db1.db\n",
      "Done.\n"
     ]
    },
    {
     "data": {
      "text/html": [
       "<table>\n",
       "    <tr>\n",
       "        <th>country_name</th>\n",
       "        <th>region</th>\n",
       "        <th>gdp_percapita</th>\n",
       "    </tr>\n",
       "    <tr>\n",
       "        <td>Afghanistan</td>\n",
       "        <td>Southern and Central Asia</td>\n",
       "        <td>539.6669999999999</td>\n",
       "    </tr>\n",
       "    <tr>\n",
       "        <td>Netherlands</td>\n",
       "        <td>Western Europe</td>\n",
       "        <td>50433.31</td>\n",
       "    </tr>\n",
       "    <tr>\n",
       "        <td>Albania</td>\n",
       "        <td>Southern Europe</td>\n",
       "        <td>4098.13</td>\n",
       "    </tr>\n",
       "    <tr>\n",
       "        <td>Algeria</td>\n",
       "        <td>Northern Africa</td>\n",
       "        <td>4480.72</td>\n",
       "    </tr>\n",
       "    <tr>\n",
       "        <td>Angola</td>\n",
       "        <td>Central Africa</td>\n",
       "        <td>3599.27</td>\n",
       "    </tr>\n",
       "</table>"
      ],
      "text/plain": [
       "[('Afghanistan', 'Southern and Central Asia', 539.6669999999999),\n",
       " ('Netherlands', 'Western Europe', 50433.31),\n",
       " ('Albania', 'Southern Europe', 4098.13),\n",
       " ('Algeria', 'Northern Africa', 4480.72),\n",
       " ('Angola', 'Central Africa', 3599.27)]"
      ]
     },
     "execution_count": 73,
     "metadata": {},
     "output_type": "execute_result"
    }
   ],
   "source": [
    "%%sql \n",
    "SELECT country_name, region, gdp_percapita\n",
    "FROM countries AS c\n",
    "LEFT JOIN economies AS e\n",
    "ON c.code = e.code\n",
    "WHERE year = 2010\n",
    "limit 5;"
   ]
  },
  {
   "cell_type": "code",
   "execution_count": null,
   "metadata": {},
   "outputs": [],
   "source": []
  }
 ],
 "metadata": {
  "kernelspec": {
   "display_name": "Python 3",
   "language": "python",
   "name": "python3"
  },
  "language_info": {
   "codemirror_mode": {
    "name": "ipython",
    "version": 3
   },
   "file_extension": ".py",
   "mimetype": "text/x-python",
   "name": "python",
   "nbconvert_exporter": "python",
   "pygments_lexer": "ipython3",
   "version": "3.5.6"
  }
 },
 "nbformat": 4,
 "nbformat_minor": 2
}
