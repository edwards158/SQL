{
 "cells": [
  {
   "cell_type": "markdown",
   "metadata": {},
   "source": [
    "## Subqueries"
   ]
  },
  {
   "cell_type": "code",
   "execution_count": 1,
   "metadata": {},
   "outputs": [],
   "source": [
    "%load_ext sql"
   ]
  },
  {
   "cell_type": "code",
   "execution_count": 2,
   "metadata": {},
   "outputs": [
    {
     "data": {
      "text/plain": [
       "'Connected: @db1.db'"
      ]
     },
     "execution_count": 2,
     "metadata": {},
     "output_type": "execute_result"
    }
   ],
   "source": [
    "%sql sqlite:///db1.db"
   ]
  },
  {
   "cell_type": "code",
   "execution_count": 3,
   "metadata": {},
   "outputs": [
    {
     "name": "stdout",
     "output_type": "stream",
     "text": [
      " * sqlite:///db1.db\n",
      "Done.\n"
     ]
    },
    {
     "data": {
      "text/html": [
       "<table>\n",
       "    <tr>\n",
       "        <th>name</th>\n",
       "    </tr>\n",
       "    <tr>\n",
       "        <td>cities</td>\n",
       "    </tr>\n",
       "    <tr>\n",
       "        <td>countries</td>\n",
       "    </tr>\n",
       "    <tr>\n",
       "        <td>countries_plus</td>\n",
       "    </tr>\n",
       "    <tr>\n",
       "        <td>currencies</td>\n",
       "    </tr>\n",
       "    <tr>\n",
       "        <td>economies</td>\n",
       "    </tr>\n",
       "    <tr>\n",
       "        <td>economies2010</td>\n",
       "    </tr>\n",
       "    <tr>\n",
       "        <td>economies2015</td>\n",
       "    </tr>\n",
       "    <tr>\n",
       "        <td>languages</td>\n",
       "    </tr>\n",
       "    <tr>\n",
       "        <td>populations</td>\n",
       "    </tr>\n",
       "</table>"
      ],
      "text/plain": [
       "[('cities',),\n",
       " ('countries',),\n",
       " ('countries_plus',),\n",
       " ('currencies',),\n",
       " ('economies',),\n",
       " ('economies2010',),\n",
       " ('economies2015',),\n",
       " ('languages',),\n",
       " ('populations',)]"
      ]
     },
     "execution_count": 3,
     "metadata": {},
     "output_type": "execute_result"
    }
   ],
   "source": [
    "%sql select name from sqlite_master where type = 'table';"
   ]
  },
  {
   "cell_type": "code",
   "execution_count": 5,
   "metadata": {},
   "outputs": [
    {
     "name": "stdout",
     "output_type": "stream",
     "text": [
      " * sqlite:///db1.db\n",
      "Done.\n"
     ]
    },
    {
     "data": {
      "text/html": [
       "<table>\n",
       "    <tr>\n",
       "        <th>pop_id</th>\n",
       "        <th>country_code</th>\n",
       "        <th>year</th>\n",
       "        <th>fertility_rate</th>\n",
       "        <th>life_expectancy</th>\n",
       "        <th>size</th>\n",
       "    </tr>\n",
       "    <tr>\n",
       "        <td>20</td>\n",
       "        <td>ABW</td>\n",
       "        <td>2010</td>\n",
       "        <td>1.704</td>\n",
       "        <td>74.95353658536591</td>\n",
       "        <td>101597</td>\n",
       "    </tr>\n",
       "</table>"
      ],
      "text/plain": [
       "[(20, 'ABW', 2010, 1.704, 74.95353658536591, 101597)]"
      ]
     },
     "execution_count": 5,
     "metadata": {},
     "output_type": "execute_result"
    }
   ],
   "source": [
    "%sql select * from populations limit 1;"
   ]
  },
  {
   "cell_type": "markdown",
   "metadata": {},
   "source": [
    "Calc avg life expectancy"
   ]
  },
  {
   "cell_type": "code",
   "execution_count": 6,
   "metadata": {},
   "outputs": [
    {
     "name": "stdout",
     "output_type": "stream",
     "text": [
      " * sqlite:///db1.db\n",
      "Done.\n"
     ]
    },
    {
     "data": {
      "text/html": [
       "<table>\n",
       "    <tr>\n",
       "        <th>avg(life_expectancy)</th>\n",
       "    </tr>\n",
       "    <tr>\n",
       "        <td>71.67634158659767</td>\n",
       "    </tr>\n",
       "</table>"
      ],
      "text/plain": [
       "[(71.67634158659767,)]"
      ]
     },
     "execution_count": 6,
     "metadata": {},
     "output_type": "execute_result"
    }
   ],
   "source": [
    "%sql select avg(life_expectancy) from populations where year = 2015"
   ]
  },
  {
   "cell_type": "markdown",
   "metadata": {},
   "source": [
    "Select populations with avg life exp 15 percent higher than avg"
   ]
  },
  {
   "cell_type": "code",
   "execution_count": 7,
   "metadata": {},
   "outputs": [
    {
     "name": "stdout",
     "output_type": "stream",
     "text": [
      " * sqlite:///db1.db\n",
      "Done.\n"
     ]
    },
    {
     "data": {
      "text/html": [
       "<table>\n",
       "    <tr>\n",
       "        <th>pop_id</th>\n",
       "        <th>country_code</th>\n",
       "        <th>year</th>\n",
       "        <th>fertility_rate</th>\n",
       "        <th>life_expectancy</th>\n",
       "        <th>size</th>\n",
       "    </tr>\n",
       "    <tr>\n",
       "        <td>21</td>\n",
       "        <td>AUS</td>\n",
       "        <td>2015</td>\n",
       "        <td>1.8330000000000002</td>\n",
       "        <td>82.4512195121951</td>\n",
       "        <td>23789752</td>\n",
       "    </tr>\n",
       "    <tr>\n",
       "        <td>376</td>\n",
       "        <td>CHE</td>\n",
       "        <td>2015</td>\n",
       "        <td>1.54</td>\n",
       "        <td>83.1975609756098</td>\n",
       "        <td>8281430</td>\n",
       "    </tr>\n",
       "    <tr>\n",
       "        <td>356</td>\n",
       "        <td>ESP</td>\n",
       "        <td>2015</td>\n",
       "        <td>1.32</td>\n",
       "        <td>83.38048780487809</td>\n",
       "        <td>46443994</td>\n",
       "    </tr>\n",
       "    <tr>\n",
       "        <td>134</td>\n",
       "        <td>FRA</td>\n",
       "        <td>2015</td>\n",
       "        <td>2.01</td>\n",
       "        <td>82.67073170731709</td>\n",
       "        <td>66538391</td>\n",
       "    </tr>\n",
       "    <tr>\n",
       "        <td>170</td>\n",
       "        <td>HKG</td>\n",
       "        <td>2015</td>\n",
       "        <td>1.195</td>\n",
       "        <td>84.2780487804878</td>\n",
       "        <td>7305700</td>\n",
       "    </tr>\n",
       "    <tr>\n",
       "        <td>174</td>\n",
       "        <td>ISL</td>\n",
       "        <td>2015</td>\n",
       "        <td>1.93</td>\n",
       "        <td>82.8609756097561</td>\n",
       "        <td>330815</td>\n",
       "    </tr>\n",
       "    <tr>\n",
       "        <td>190</td>\n",
       "        <td>ITA</td>\n",
       "        <td>2015</td>\n",
       "        <td>1.37</td>\n",
       "        <td>83.490243902439</td>\n",
       "        <td>60730582</td>\n",
       "    </tr>\n",
       "    <tr>\n",
       "        <td>194</td>\n",
       "        <td>JPN</td>\n",
       "        <td>2015</td>\n",
       "        <td>1.46</td>\n",
       "        <td>83.84365853658541</td>\n",
       "        <td>126958472</td>\n",
       "    </tr>\n",
       "    <tr>\n",
       "        <td>340</td>\n",
       "        <td>SGP</td>\n",
       "        <td>2015</td>\n",
       "        <td>1.24</td>\n",
       "        <td>82.5951219512195</td>\n",
       "        <td>5535002</td>\n",
       "    </tr>\n",
       "    <tr>\n",
       "        <td>374</td>\n",
       "        <td>SWE</td>\n",
       "        <td>2015</td>\n",
       "        <td>1.88</td>\n",
       "        <td>82.55121951219509</td>\n",
       "        <td>9799186</td>\n",
       "    </tr>\n",
       "</table>"
      ],
      "text/plain": [
       "[(21, 'AUS', 2015, 1.8330000000000002, 82.4512195121951, 23789752),\n",
       " (376, 'CHE', 2015, 1.54, 83.1975609756098, 8281430),\n",
       " (356, 'ESP', 2015, 1.32, 83.38048780487809, 46443994),\n",
       " (134, 'FRA', 2015, 2.01, 82.67073170731709, 66538391),\n",
       " (170, 'HKG', 2015, 1.195, 84.2780487804878, 7305700),\n",
       " (174, 'ISL', 2015, 1.93, 82.8609756097561, 330815),\n",
       " (190, 'ITA', 2015, 1.37, 83.490243902439, 60730582),\n",
       " (194, 'JPN', 2015, 1.46, 83.84365853658541, 126958472),\n",
       " (340, 'SGP', 2015, 1.24, 82.5951219512195, 5535002),\n",
       " (374, 'SWE', 2015, 1.88, 82.55121951219509, 9799186)]"
      ]
     },
     "execution_count": 7,
     "metadata": {},
     "output_type": "execute_result"
    }
   ],
   "source": [
    "%%sql\n",
    "select * from populations\n",
    "where life_expectancy > \n",
    "1.15 * (select avg(life_expectancy) from populations\n",
    "where year = 2015) and year = 2015"
   ]
  },
  {
   "cell_type": "markdown",
   "metadata": {},
   "source": [
    "Get the urban area population for only capital cities."
   ]
  },
  {
   "cell_type": "code",
   "execution_count": 8,
   "metadata": {},
   "outputs": [
    {
     "name": "stdout",
     "output_type": "stream",
     "text": [
      " * sqlite:///db1.db\n",
      "Done.\n"
     ]
    },
    {
     "data": {
      "text/html": [
       "<table>\n",
       "    <tr>\n",
       "        <th>code</th>\n",
       "        <th>country_name</th>\n",
       "        <th>continent</th>\n",
       "        <th>region</th>\n",
       "        <th>surface_area</th>\n",
       "        <th>indep_year</th>\n",
       "        <th>local_name</th>\n",
       "        <th>gov_form</th>\n",
       "        <th>capital</th>\n",
       "        <th>cap_long</th>\n",
       "        <th>cap_lat</th>\n",
       "    </tr>\n",
       "    <tr>\n",
       "        <td>AFG</td>\n",
       "        <td>Afghanistan</td>\n",
       "        <td>Asia</td>\n",
       "        <td>Southern and Central Asia</td>\n",
       "        <td>652090.0</td>\n",
       "        <td>1919</td>\n",
       "        <td>Afganistan/Afqanestan</td>\n",
       "        <td>Islamic Emirate</td>\n",
       "        <td>Kabul</td>\n",
       "        <td>69.1761</td>\n",
       "        <td>34.5228</td>\n",
       "    </tr>\n",
       "</table>"
      ],
      "text/plain": [
       "[('AFG', 'Afghanistan', 'Asia', 'Southern and Central Asia', 652090.0, 1919, 'Afganistan/Afqanestan', 'Islamic Emirate', 'Kabul', 69.1761, 34.5228)]"
      ]
     },
     "execution_count": 8,
     "metadata": {},
     "output_type": "execute_result"
    }
   ],
   "source": [
    "%sql select * from countries limit 1;"
   ]
  },
  {
   "cell_type": "code",
   "execution_count": 9,
   "metadata": {},
   "outputs": [
    {
     "name": "stdout",
     "output_type": "stream",
     "text": [
      " * sqlite:///db1.db\n",
      "Done.\n"
     ]
    },
    {
     "data": {
      "text/html": [
       "<table>\n",
       "    <tr>\n",
       "        <th>name</th>\n",
       "        <th>country_code</th>\n",
       "        <th>city_proper_pop</th>\n",
       "        <th>metroarea_pop</th>\n",
       "        <th>urbanarea_pop</th>\n",
       "    </tr>\n",
       "    <tr>\n",
       "        <td>Abidjan</td>\n",
       "        <td>CIV</td>\n",
       "        <td>4765000</td>\n",
       "        <td>None</td>\n",
       "        <td>4765000</td>\n",
       "    </tr>\n",
       "</table>"
      ],
      "text/plain": [
       "[('Abidjan', 'CIV', 4765000, None, 4765000)]"
      ]
     },
     "execution_count": 9,
     "metadata": {},
     "output_type": "execute_result"
    }
   ],
   "source": [
    "%sql select * from cities limit 1;"
   ]
  },
  {
   "cell_type": "code",
   "execution_count": 11,
   "metadata": {},
   "outputs": [
    {
     "name": "stdout",
     "output_type": "stream",
     "text": [
      " * sqlite:///db1.db\n",
      "Done.\n"
     ]
    },
    {
     "data": {
      "text/html": [
       "<table>\n",
       "    <tr>\n",
       "        <th>name</th>\n",
       "        <th>country_code</th>\n",
       "        <th>urbanarea_pop</th>\n",
       "    </tr>\n",
       "    <tr>\n",
       "        <td>Beijing</td>\n",
       "        <td>CHN</td>\n",
       "        <td>21516000</td>\n",
       "    </tr>\n",
       "    <tr>\n",
       "        <td>Dhaka</td>\n",
       "        <td>BGD</td>\n",
       "        <td>14543124</td>\n",
       "    </tr>\n",
       "    <tr>\n",
       "        <td>Tokyo</td>\n",
       "        <td>JPN</td>\n",
       "        <td>13513734</td>\n",
       "    </tr>\n",
       "    <tr>\n",
       "        <td>Moscow</td>\n",
       "        <td>RUS</td>\n",
       "        <td>12197596</td>\n",
       "    </tr>\n",
       "    <tr>\n",
       "        <td>Cairo</td>\n",
       "        <td>EGY</td>\n",
       "        <td>10230350</td>\n",
       "    </tr>\n",
       "</table>"
      ],
      "text/plain": [
       "[('Beijing', 'CHN', 21516000),\n",
       " ('Dhaka', 'BGD', 14543124),\n",
       " ('Tokyo', 'JPN', 13513734),\n",
       " ('Moscow', 'RUS', 12197596),\n",
       " ('Cairo', 'EGY', 10230350)]"
      ]
     },
     "execution_count": 11,
     "metadata": {},
     "output_type": "execute_result"
    }
   ],
   "source": [
    "%%sql\n",
    "select name,country_code,urbanarea_pop from cities\n",
    "where name in (select capital from countries)\n",
    "order by urbanarea_pop desc\n",
    "limit 5;"
   ]
  },
  {
   "cell_type": "markdown",
   "metadata": {},
   "source": [
    "Select top 9 most populous cities"
   ]
  },
  {
   "cell_type": "code",
   "execution_count": 13,
   "metadata": {},
   "outputs": [
    {
     "name": "stdout",
     "output_type": "stream",
     "text": [
      " * sqlite:///db1.db\n",
      "Done.\n"
     ]
    },
    {
     "data": {
      "text/html": [
       "<table>\n",
       "    <tr>\n",
       "        <th>country</th>\n",
       "        <th>cities_num</th>\n",
       "    </tr>\n",
       "    <tr>\n",
       "        <td>China</td>\n",
       "        <td>36</td>\n",
       "    </tr>\n",
       "    <tr>\n",
       "        <td>India</td>\n",
       "        <td>18</td>\n",
       "    </tr>\n",
       "    <tr>\n",
       "        <td>Japan</td>\n",
       "        <td>11</td>\n",
       "    </tr>\n",
       "    <tr>\n",
       "        <td>Brazil</td>\n",
       "        <td>10</td>\n",
       "    </tr>\n",
       "    <tr>\n",
       "        <td>Pakistan</td>\n",
       "        <td>9</td>\n",
       "    </tr>\n",
       "    <tr>\n",
       "        <td>United States</td>\n",
       "        <td>9</td>\n",
       "    </tr>\n",
       "    <tr>\n",
       "        <td>Indonesia</td>\n",
       "        <td>7</td>\n",
       "    </tr>\n",
       "    <tr>\n",
       "        <td>Russian Federation</td>\n",
       "        <td>7</td>\n",
       "    </tr>\n",
       "    <tr>\n",
       "        <td>South Korea</td>\n",
       "        <td>7</td>\n",
       "    </tr>\n",
       "</table>"
      ],
      "text/plain": [
       "[('China', 36),\n",
       " ('India', 18),\n",
       " ('Japan', 11),\n",
       " ('Brazil', 10),\n",
       " ('Pakistan', 9),\n",
       " ('United States', 9),\n",
       " ('Indonesia', 7),\n",
       " ('Russian Federation', 7),\n",
       " ('South Korea', 7)]"
      ]
     },
     "execution_count": 13,
     "metadata": {},
     "output_type": "execute_result"
    }
   ],
   "source": [
    "%%sql\n",
    "SELECT countries.country_name AS country,\n",
    "  (SELECT COUNT(*)\n",
    "   FROM cities\n",
    "   WHERE countries.code = cities.country_code) AS cities_num\n",
    "FROM countries\n",
    "ORDER BY cities_num DESC, country\n",
    "LIMIT 9;"
   ]
  },
  {
   "cell_type": "markdown",
   "metadata": {},
   "source": [
    "Determine for each country code how many languages are listed in the languages table using SELECT, FROM, and GROUP BY"
   ]
  },
  {
   "cell_type": "code",
   "execution_count": 15,
   "metadata": {},
   "outputs": [
    {
     "name": "stdout",
     "output_type": "stream",
     "text": [
      " * sqlite:///db1.db\n",
      "Done.\n"
     ]
    },
    {
     "data": {
      "text/html": [
       "<table>\n",
       "    <tr>\n",
       "        <th>code</th>\n",
       "        <th>lang_num</th>\n",
       "    </tr>\n",
       "    <tr>\n",
       "        <td>ABW</td>\n",
       "        <td>7</td>\n",
       "    </tr>\n",
       "    <tr>\n",
       "        <td>AFG</td>\n",
       "        <td>4</td>\n",
       "    </tr>\n",
       "    <tr>\n",
       "        <td>AGO</td>\n",
       "        <td>12</td>\n",
       "    </tr>\n",
       "    <tr>\n",
       "        <td>AIA</td>\n",
       "        <td>1</td>\n",
       "    </tr>\n",
       "    <tr>\n",
       "        <td>ALB</td>\n",
       "        <td>4</td>\n",
       "    </tr>\n",
       "</table>"
      ],
      "text/plain": [
       "[('ABW', 7), ('AFG', 4), ('AGO', 12), ('AIA', 1), ('ALB', 4)]"
      ]
     },
     "execution_count": 15,
     "metadata": {},
     "output_type": "execute_result"
    }
   ],
   "source": [
    "%%sql\n",
    "SELECT code, COUNT(*) AS lang_num\n",
    "FROM languages\n",
    "GROUP BY code\n",
    "limit 5;"
   ]
  },
  {
   "cell_type": "markdown",
   "metadata": {},
   "source": [
    "Determine the number of languages spoken for each country, identified by the country's local name"
   ]
  },
  {
   "cell_type": "code",
   "execution_count": 17,
   "metadata": {},
   "outputs": [
    {
     "name": "stdout",
     "output_type": "stream",
     "text": [
      " * sqlite:///db1.db\n",
      "Done.\n"
     ]
    },
    {
     "data": {
      "text/html": [
       "<table>\n",
       "    <tr>\n",
       "        <th>local_name</th>\n",
       "        <th>lang_num</th>\n",
       "    </tr>\n",
       "    <tr>\n",
       "        <td>Zambia</td>\n",
       "        <td>19</td>\n",
       "    </tr>\n",
       "    <tr>\n",
       "        <td>YeItyop´iya</td>\n",
       "        <td>16</td>\n",
       "    </tr>\n",
       "    <tr>\n",
       "        <td>Zimbabwe</td>\n",
       "        <td>16</td>\n",
       "    </tr>\n",
       "    <tr>\n",
       "        <td>Bharat/India</td>\n",
       "        <td>14</td>\n",
       "    </tr>\n",
       "    <tr>\n",
       "        <td>Nepal</td>\n",
       "        <td>14</td>\n",
       "    </tr>\n",
       "</table>"
      ],
      "text/plain": [
       "[('Zambia', 19),\n",
       " ('YeItyop´iya', 16),\n",
       " ('Zimbabwe', 16),\n",
       " ('Bharat/India', 14),\n",
       " ('Nepal', 14)]"
      ]
     },
     "execution_count": 17,
     "metadata": {},
     "output_type": "execute_result"
    }
   ],
   "source": [
    "%%sql\n",
    "SELECT local_name, subquery.lang_num\n",
    "FROM countries,\n",
    "(SELECT code, COUNT(*) AS lang_num\n",
    "FROM languages\n",
    "GROUP BY code) AS subquery\n",
    "WHERE countries.code = subquery.code\n",
    "ORDER BY lang_num DESC\n",
    "limit 5;"
   ]
  },
  {
   "cell_type": "code",
   "execution_count": null,
   "metadata": {},
   "outputs": [],
   "source": []
  }
 ],
 "metadata": {
  "kernelspec": {
   "display_name": "Python 3",
   "language": "python",
   "name": "python3"
  },
  "language_info": {
   "codemirror_mode": {
    "name": "ipython",
    "version": 3
   },
   "file_extension": ".py",
   "mimetype": "text/x-python",
   "name": "python",
   "nbconvert_exporter": "python",
   "pygments_lexer": "ipython3",
   "version": "3.5.6"
  }
 },
 "nbformat": 4,
 "nbformat_minor": 2
}
