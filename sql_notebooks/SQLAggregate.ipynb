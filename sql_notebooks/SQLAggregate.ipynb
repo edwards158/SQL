{
 "cells": [
  {
   "cell_type": "markdown",
   "metadata": {},
   "source": [
    "## Aggregate Functions, Sorting, Groups \n",
    "\n",
    "- aggregate functions\n",
    "- aliasing\n",
    "- group by\n",
    "- order by\n",
    "- group by\n",
    "- having\n"
   ]
  },
  {
   "cell_type": "code",
   "execution_count": 86,
   "metadata": {},
   "outputs": [
    {
     "name": "stdout",
     "output_type": "stream",
     "text": [
      "The sql extension is already loaded. To reload it, use:\n",
      "  %reload_ext sql\n"
     ]
    }
   ],
   "source": [
    "%load_ext sql"
   ]
  },
  {
   "cell_type": "code",
   "execution_count": 87,
   "metadata": {},
   "outputs": [
    {
     "data": {
      "text/plain": [
       "'Connected: @imdb.db'"
      ]
     },
     "execution_count": 87,
     "metadata": {},
     "output_type": "execute_result"
    }
   ],
   "source": [
    "%sql sqlite:///imdb.db"
   ]
  },
  {
   "cell_type": "markdown",
   "metadata": {},
   "source": [
    "List tables in db"
   ]
  },
  {
   "cell_type": "code",
   "execution_count": 88,
   "metadata": {},
   "outputs": [
    {
     "name": "stdout",
     "output_type": "stream",
     "text": [
      " * sqlite:///imdb.db\n",
      "Done.\n"
     ]
    },
    {
     "data": {
      "text/html": [
       "<table>\n",
       "    <tr>\n",
       "        <th>name</th>\n",
       "    </tr>\n",
       "    <tr>\n",
       "        <td>films</td>\n",
       "    </tr>\n",
       "    <tr>\n",
       "        <td>people</td>\n",
       "    </tr>\n",
       "    <tr>\n",
       "        <td>reviews</td>\n",
       "    </tr>\n",
       "    <tr>\n",
       "        <td>roles</td>\n",
       "    </tr>\n",
       "</table>"
      ],
      "text/plain": [
       "[('films',), ('people',), ('reviews',), ('roles',)]"
      ]
     },
     "execution_count": 88,
     "metadata": {},
     "output_type": "execute_result"
    }
   ],
   "source": [
    "%sql select name from sqlite_master where type = 'table'"
   ]
  },
  {
   "cell_type": "markdown",
   "metadata": {},
   "source": [
    "Use the SUM function to get the total duration of all films.\n",
    "\n",
    "Get the duration of the longest film."
   ]
  },
  {
   "cell_type": "code",
   "execution_count": 89,
   "metadata": {},
   "outputs": [
    {
     "name": "stdout",
     "output_type": "stream",
     "text": [
      " * sqlite:///imdb.db\n",
      "Done.\n"
     ]
    },
    {
     "data": {
      "text/html": [
       "<table>\n",
       "    <tr>\n",
       "        <th>sum(duration)</th>\n",
       "    </tr>\n",
       "    <tr>\n",
       "        <td>1069764</td>\n",
       "    </tr>\n",
       "</table>"
      ],
      "text/plain": [
       "[(1069764,)]"
      ]
     },
     "execution_count": 89,
     "metadata": {},
     "output_type": "execute_result"
    }
   ],
   "source": [
    "%sql select sum(duration) from films;"
   ]
  },
  {
   "cell_type": "code",
   "execution_count": 90,
   "metadata": {},
   "outputs": [
    {
     "name": "stdout",
     "output_type": "stream",
     "text": [
      " * sqlite:///imdb.db\n",
      "Done.\n"
     ]
    },
    {
     "data": {
      "text/html": [
       "<table>\n",
       "    <tr>\n",
       "        <th>max(duration)</th>\n",
       "    </tr>\n",
       "    <tr>\n",
       "        <td>334</td>\n",
       "    </tr>\n",
       "</table>"
      ],
      "text/plain": [
       "[(334,)]"
      ]
     },
     "execution_count": 90,
     "metadata": {},
     "output_type": "execute_result"
    }
   ],
   "source": [
    "%sql select max(duration) from films;"
   ]
  },
  {
   "cell_type": "markdown",
   "metadata": {},
   "source": [
    "Get the amount grossed by the best performing film."
   ]
  },
  {
   "cell_type": "code",
   "execution_count": 91,
   "metadata": {},
   "outputs": [
    {
     "name": "stdout",
     "output_type": "stream",
     "text": [
      " * sqlite:///imdb.db\n",
      "Done.\n"
     ]
    },
    {
     "data": {
      "text/html": [
       "<table>\n",
       "    <tr>\n",
       "        <th>id</th>\n",
       "        <th>title</th>\n",
       "        <th>release_year</th>\n",
       "        <th>country</th>\n",
       "        <th>duration</th>\n",
       "        <th>language</th>\n",
       "        <th>certification</th>\n",
       "        <th>gross</th>\n",
       "        <th>budget</th>\n",
       "    </tr>\n",
       "    <tr>\n",
       "        <td>1</td>\n",
       "        <td>Intolerance: Love&#x27;s Struggle Throughout the Ages</td>\n",
       "        <td>1916</td>\n",
       "        <td>USA</td>\n",
       "        <td>123</td>\n",
       "        <td>None</td>\n",
       "        <td>Not Rated</td>\n",
       "        <td>None</td>\n",
       "        <td>385907</td>\n",
       "    </tr>\n",
       "    <tr>\n",
       "        <td>2</td>\n",
       "        <td>Over the Hill to the Poorhouse</td>\n",
       "        <td>1920</td>\n",
       "        <td>USA</td>\n",
       "        <td>110</td>\n",
       "        <td>None</td>\n",
       "        <td>None</td>\n",
       "        <td>3000000</td>\n",
       "        <td>100000</td>\n",
       "    </tr>\n",
       "    <tr>\n",
       "        <td>3</td>\n",
       "        <td>The Big Parade</td>\n",
       "        <td>1925</td>\n",
       "        <td>USA</td>\n",
       "        <td>151</td>\n",
       "        <td>None</td>\n",
       "        <td>Not Rated</td>\n",
       "        <td>None</td>\n",
       "        <td>245000</td>\n",
       "    </tr>\n",
       "</table>"
      ],
      "text/plain": [
       "[(1, \"Intolerance: Love's Struggle Throughout the Ages\", 1916, 'USA', 123, None, 'Not Rated', None, 385907),\n",
       " (2, 'Over the Hill to the Poorhouse', 1920, 'USA', 110, None, None, 3000000, 100000),\n",
       " (3, 'The Big Parade', 1925, 'USA', 151, None, 'Not Rated', None, 245000)]"
      ]
     },
     "execution_count": 91,
     "metadata": {},
     "output_type": "execute_result"
    }
   ],
   "source": [
    "%sql select * from films limit 3;"
   ]
  },
  {
   "cell_type": "code",
   "execution_count": 92,
   "metadata": {},
   "outputs": [
    {
     "name": "stdout",
     "output_type": "stream",
     "text": [
      " * sqlite:///imdb.db\n",
      "Done.\n"
     ]
    },
    {
     "data": {
      "text/html": [
       "<table>\n",
       "    <tr>\n",
       "        <th>max(gross)</th>\n",
       "    </tr>\n",
       "    <tr>\n",
       "        <td>936627416</td>\n",
       "    </tr>\n",
       "</table>"
      ],
      "text/plain": [
       "[(936627416,)]"
      ]
     },
     "execution_count": 92,
     "metadata": {},
     "output_type": "execute_result"
    }
   ],
   "source": [
    "%sql select max(gross) from films;"
   ]
  },
  {
   "cell_type": "markdown",
   "metadata": {},
   "source": [
    "Get the amount grossed by the best performing film between 2000 and 2012, inclusive."
   ]
  },
  {
   "cell_type": "code",
   "execution_count": 93,
   "metadata": {},
   "outputs": [
    {
     "name": "stdout",
     "output_type": "stream",
     "text": [
      " * sqlite:///imdb.db\n",
      "Done.\n"
     ]
    },
    {
     "data": {
      "text/html": [
       "<table>\n",
       "    <tr>\n",
       "        <th>max(gross)</th>\n",
       "    </tr>\n",
       "    <tr>\n",
       "        <td>760505847</td>\n",
       "    </tr>\n",
       "</table>"
      ],
      "text/plain": [
       "[(760505847,)]"
      ]
     },
     "execution_count": 93,
     "metadata": {},
     "output_type": "execute_result"
    }
   ],
   "source": [
    "% sql select max(gross) from films where release_year between 2000 and 2012;"
   ]
  },
  {
   "cell_type": "markdown",
   "metadata": {},
   "source": [
    "Get the average duration in hours for all films, aliased as avg_duration_hours"
   ]
  },
  {
   "cell_type": "code",
   "execution_count": 94,
   "metadata": {},
   "outputs": [
    {
     "name": "stdout",
     "output_type": "stream",
     "text": [
      " * sqlite:///imdb.db\n",
      "Done.\n"
     ]
    },
    {
     "data": {
      "text/html": [
       "<table>\n",
       "    <tr>\n",
       "        <th>avg_duration_hours</th>\n",
       "    </tr>\n",
       "    <tr>\n",
       "        <td>107.94793138244198</td>\n",
       "    </tr>\n",
       "</table>"
      ],
      "text/plain": [
       "[(107.94793138244198,)]"
      ]
     },
     "execution_count": 94,
     "metadata": {},
     "output_type": "execute_result"
    }
   ],
   "source": [
    "%sql select avg(duration) as avg_duration_hours from films;"
   ]
  },
  {
   "cell_type": "markdown",
   "metadata": {},
   "source": [
    "Get the percentage of people who are no longer alive. Alias the result as percentage_dead."
   ]
  },
  {
   "cell_type": "code",
   "execution_count": 95,
   "metadata": {},
   "outputs": [
    {
     "name": "stdout",
     "output_type": "stream",
     "text": [
      " * sqlite:///imdb.db\n",
      "Done.\n"
     ]
    },
    {
     "data": {
      "text/html": [
       "<table>\n",
       "    <tr>\n",
       "        <th>id</th>\n",
       "        <th>name</th>\n",
       "        <th>birthdate</th>\n",
       "        <th>deathdate</th>\n",
       "    </tr>\n",
       "    <tr>\n",
       "        <td>1</td>\n",
       "        <td>50 Cent</td>\n",
       "        <td>1975-07-06</td>\n",
       "        <td>None</td>\n",
       "    </tr>\n",
       "    <tr>\n",
       "        <td>2</td>\n",
       "        <td>A. Michael Baldwin</td>\n",
       "        <td>1963-04-04</td>\n",
       "        <td>None</td>\n",
       "    </tr>\n",
       "    <tr>\n",
       "        <td>3</td>\n",
       "        <td>A. Raven Cruz</td>\n",
       "        <td>None</td>\n",
       "        <td>None</td>\n",
       "    </tr>\n",
       "</table>"
      ],
      "text/plain": [
       "[(1, '50 Cent', '1975-07-06', None),\n",
       " (2, 'A. Michael Baldwin', '1963-04-04', None),\n",
       " (3, 'A. Raven Cruz', None, None)]"
      ]
     },
     "execution_count": 95,
     "metadata": {},
     "output_type": "execute_result"
    }
   ],
   "source": [
    "% sql select * from people limit 3; "
   ]
  },
  {
   "cell_type": "code",
   "execution_count": 96,
   "metadata": {},
   "outputs": [
    {
     "name": "stdout",
     "output_type": "stream",
     "text": [
      " * sqlite:///imdb.db\n",
      "Done.\n"
     ]
    },
    {
     "data": {
      "text/html": [
       "<table>\n",
       "    <tr>\n",
       "        <th>percentage_dead</th>\n",
       "    </tr>\n",
       "    <tr>\n",
       "        <td>9.372394902941526</td>\n",
       "    </tr>\n",
       "</table>"
      ],
      "text/plain": [
       "[(9.372394902941526,)]"
      ]
     },
     "execution_count": 96,
     "metadata": {},
     "output_type": "execute_result"
    }
   ],
   "source": [
    "%sql select count(deathdate) * 100.0 / count(*) as percentage_dead from people;"
   ]
  },
  {
   "cell_type": "markdown",
   "metadata": {},
   "source": [
    "get titles of films sorted by relase_year from newest to oldest"
   ]
  },
  {
   "cell_type": "code",
   "execution_count": 97,
   "metadata": {},
   "outputs": [
    {
     "name": "stdout",
     "output_type": "stream",
     "text": [
      " * sqlite:///imdb.db\n",
      "Done.\n"
     ]
    },
    {
     "data": {
      "text/html": [
       "<table>\n",
       "    <tr>\n",
       "        <th>title</th>\n",
       "        <th>release_year</th>\n",
       "    </tr>\n",
       "    <tr>\n",
       "        <td>10 Cloverfield Lane</td>\n",
       "        <td>2016</td>\n",
       "    </tr>\n",
       "    <tr>\n",
       "        <td>13 Hours</td>\n",
       "        <td>2016</td>\n",
       "    </tr>\n",
       "    <tr>\n",
       "        <td>A Beginner&#x27;s Guide to Snuff</td>\n",
       "        <td>2016</td>\n",
       "    </tr>\n",
       "    <tr>\n",
       "        <td>Airlift</td>\n",
       "        <td>2016</td>\n",
       "    </tr>\n",
       "    <tr>\n",
       "        <td>Alice Through the Looking Glass</td>\n",
       "        <td>2016</td>\n",
       "    </tr>\n",
       "</table>"
      ],
      "text/plain": [
       "[('10 Cloverfield Lane', 2016),\n",
       " ('13 Hours', 2016),\n",
       " (\"A Beginner's Guide to Snuff\", 2016),\n",
       " ('Airlift', 2016),\n",
       " ('Alice Through the Looking Glass', 2016)]"
      ]
     },
     "execution_count": 97,
     "metadata": {},
     "output_type": "execute_result"
    }
   ],
   "source": [
    "%sql select title,release_year from films order by release_year desc limit 5;"
   ]
  },
  {
   "cell_type": "markdown",
   "metadata": {},
   "source": [
    "Get the names of people from the people table, sorted alphabetically."
   ]
  },
  {
   "cell_type": "code",
   "execution_count": 98,
   "metadata": {},
   "outputs": [
    {
     "name": "stdout",
     "output_type": "stream",
     "text": [
      " * sqlite:///imdb.db\n",
      "Done.\n"
     ]
    },
    {
     "data": {
      "text/html": [
       "<table>\n",
       "    <tr>\n",
       "        <th>name</th>\n",
       "    </tr>\n",
       "    <tr>\n",
       "        <td>50 Cent</td>\n",
       "    </tr>\n",
       "    <tr>\n",
       "        <td>A. Michael Baldwin</td>\n",
       "    </tr>\n",
       "    <tr>\n",
       "        <td>A. Raven Cruz</td>\n",
       "    </tr>\n",
       "    <tr>\n",
       "        <td>A.J. Buckley</td>\n",
       "    </tr>\n",
       "    <tr>\n",
       "        <td>A.J. DeLucia</td>\n",
       "    </tr>\n",
       "</table>"
      ],
      "text/plain": [
       "[('50 Cent',),\n",
       " ('A. Michael Baldwin',),\n",
       " ('A. Raven Cruz',),\n",
       " ('A.J. Buckley',),\n",
       " ('A.J. DeLucia',)]"
      ]
     },
     "execution_count": 98,
     "metadata": {},
     "output_type": "execute_result"
    }
   ],
   "source": [
    "% sql select name from people order by name asc limit 5;"
   ]
  },
  {
   "cell_type": "markdown",
   "metadata": {},
   "source": [
    "Get the title of films released in 2000 or 2012, in the order they were released."
   ]
  },
  {
   "cell_type": "code",
   "execution_count": 99,
   "metadata": {},
   "outputs": [
    {
     "name": "stdout",
     "output_type": "stream",
     "text": [
      " * sqlite:///imdb.db\n",
      "Done.\n"
     ]
    },
    {
     "data": {
      "text/html": [
       "<table>\n",
       "    <tr>\n",
       "        <th>title</th>\n",
       "    </tr>\n",
       "    <tr>\n",
       "        <td>102 Dalmatians</td>\n",
       "    </tr>\n",
       "    <tr>\n",
       "        <td>28 Days</td>\n",
       "    </tr>\n",
       "    <tr>\n",
       "        <td>3 Strikes</td>\n",
       "    </tr>\n",
       "    <tr>\n",
       "        <td>Aberdeen</td>\n",
       "    </tr>\n",
       "    <tr>\n",
       "        <td>All the Pretty Horses</td>\n",
       "    </tr>\n",
       "</table>"
      ],
      "text/plain": [
       "[('102 Dalmatians',),\n",
       " ('28 Days',),\n",
       " ('3 Strikes',),\n",
       " ('Aberdeen',),\n",
       " ('All the Pretty Horses',)]"
      ]
     },
     "execution_count": 99,
     "metadata": {},
     "output_type": "execute_result"
    }
   ],
   "source": [
    "%sql select title from films where release_year in (2000,2012) order by release_year limit 5;"
   ]
  },
  {
   "cell_type": "markdown",
   "metadata": {},
   "source": [
    "Get the title and gross earnings for movies which begin with the letter 'M' and order the results alphabetically."
   ]
  },
  {
   "cell_type": "code",
   "execution_count": 100,
   "metadata": {},
   "outputs": [
    {
     "name": "stdout",
     "output_type": "stream",
     "text": [
      " * sqlite:///imdb.db\n",
      "Done.\n"
     ]
    },
    {
     "data": {
      "text/html": [
       "<table>\n",
       "    <tr>\n",
       "        <th>title</th>\n",
       "        <th>gross</th>\n",
       "    </tr>\n",
       "    <tr>\n",
       "        <td>Metropolis</td>\n",
       "        <td>26435</td>\n",
       "    </tr>\n",
       "    <tr>\n",
       "        <td>Modern Times</td>\n",
       "        <td>163245</td>\n",
       "    </tr>\n",
       "    <tr>\n",
       "        <td>Mr. Smith Goes to Washington</td>\n",
       "        <td>None</td>\n",
       "    </tr>\n",
       "    <tr>\n",
       "        <td>Moby Dick</td>\n",
       "        <td>None</td>\n",
       "    </tr>\n",
       "    <tr>\n",
       "        <td>Mary Poppins</td>\n",
       "        <td>102300000</td>\n",
       "    </tr>\n",
       "    <tr>\n",
       "        <td>My Fair Lady</td>\n",
       "        <td>72000000</td>\n",
       "    </tr>\n",
       "    <tr>\n",
       "        <td>Major Dundee</td>\n",
       "        <td>14873</td>\n",
       "    </tr>\n",
       "    <tr>\n",
       "        <td>Machine Gun McCain</td>\n",
       "        <td>None</td>\n",
       "    </tr>\n",
       "    <tr>\n",
       "        <td>Midnight Cowboy</td>\n",
       "        <td>None</td>\n",
       "    </tr>\n",
       "    <tr>\n",
       "        <td>Mississippi Mermaid</td>\n",
       "        <td>26893</td>\n",
       "    </tr>\n",
       "</table>"
      ],
      "text/plain": [
       "[('Metropolis', 26435),\n",
       " ('Modern Times', 163245),\n",
       " ('Mr. Smith Goes to Washington', None),\n",
       " ('Moby Dick', None),\n",
       " ('Mary Poppins', 102300000),\n",
       " ('My Fair Lady', 72000000),\n",
       " ('Major Dundee', 14873),\n",
       " ('Machine Gun McCain', None),\n",
       " ('Midnight Cowboy', None),\n",
       " ('Mississippi Mermaid', 26893)]"
      ]
     },
     "execution_count": 100,
     "metadata": {},
     "output_type": "execute_result"
    }
   ],
   "source": [
    "%sql select title,gross from films where title like 'M%' limit 10;"
   ]
  },
  {
   "cell_type": "markdown",
   "metadata": {},
   "source": [
    "Get the birth date and name of people in the people table, in order of when they were born and alphabetically by name"
   ]
  },
  {
   "cell_type": "code",
   "execution_count": 101,
   "metadata": {},
   "outputs": [
    {
     "name": "stdout",
     "output_type": "stream",
     "text": [
      " * sqlite:///imdb.db\n",
      "Done.\n"
     ]
    },
    {
     "data": {
      "text/html": [
       "<table>\n",
       "    <tr>\n",
       "        <th>birthdate</th>\n",
       "        <th>name</th>\n",
       "    </tr>\n",
       "    <tr>\n",
       "        <td>1837-10-10</td>\n",
       "        <td>Robert Shaw</td>\n",
       "    </tr>\n",
       "    <tr>\n",
       "        <td>1872-11-07</td>\n",
       "        <td>Lucille La Verne</td>\n",
       "    </tr>\n",
       "    <tr>\n",
       "        <td>1874-03-14</td>\n",
       "        <td>Mary Carr</td>\n",
       "    </tr>\n",
       "    <tr>\n",
       "        <td>1875-01-22</td>\n",
       "        <td>D.W. Griffith</td>\n",
       "    </tr>\n",
       "    <tr>\n",
       "        <td>1878-01-20</td>\n",
       "        <td>Finlay Currie</td>\n",
       "    </tr>\n",
       "</table>"
      ],
      "text/plain": [
       "[('1837-10-10', 'Robert Shaw'),\n",
       " ('1872-11-07', 'Lucille La Verne'),\n",
       " ('1874-03-14', 'Mary Carr'),\n",
       " ('1875-01-22', 'D.W. Griffith'),\n",
       " ('1878-01-20', 'Finlay Currie')]"
      ]
     },
     "execution_count": 101,
     "metadata": {},
     "output_type": "execute_result"
    }
   ],
   "source": [
    "%sql select birthdate,name from people where birthdate != 'None' order by birthdate,name limit 5;"
   ]
  },
  {
   "cell_type": "markdown",
   "metadata": {},
   "source": [
    "group employees by sex"
   ]
  },
  {
   "cell_type": "markdown",
   "metadata": {},
   "source": [
    "Get the release year and count of films released in each year."
   ]
  },
  {
   "cell_type": "code",
   "execution_count": 102,
   "metadata": {},
   "outputs": [
    {
     "name": "stdout",
     "output_type": "stream",
     "text": [
      " * sqlite:///imdb.db\n",
      "Done.\n"
     ]
    },
    {
     "data": {
      "text/html": [
       "<table>\n",
       "    <tr>\n",
       "        <th>release_year</th>\n",
       "        <th>count(*)</th>\n",
       "    </tr>\n",
       "    <tr>\n",
       "        <td>None</td>\n",
       "        <td>84</td>\n",
       "    </tr>\n",
       "    <tr>\n",
       "        <td>1916</td>\n",
       "        <td>2</td>\n",
       "    </tr>\n",
       "    <tr>\n",
       "        <td>1920</td>\n",
       "        <td>2</td>\n",
       "    </tr>\n",
       "    <tr>\n",
       "        <td>1925</td>\n",
       "        <td>2</td>\n",
       "    </tr>\n",
       "    <tr>\n",
       "        <td>1927</td>\n",
       "        <td>2</td>\n",
       "    </tr>\n",
       "</table>"
      ],
      "text/plain": [
       "[(None, 84), (1916, 2), (1920, 2), (1925, 2), (1927, 2)]"
      ]
     },
     "execution_count": 102,
     "metadata": {},
     "output_type": "execute_result"
    }
   ],
   "source": [
    "%sql select release_year, count(*) from films group by release_year limit 5;"
   ]
  },
  {
   "cell_type": "markdown",
   "metadata": {},
   "source": [
    "Get the release year and average duration of all films, grouped by release year."
   ]
  },
  {
   "cell_type": "code",
   "execution_count": 103,
   "metadata": {},
   "outputs": [
    {
     "name": "stdout",
     "output_type": "stream",
     "text": [
      " * sqlite:///imdb.db\n",
      "Done.\n"
     ]
    },
    {
     "data": {
      "text/html": [
       "<table>\n",
       "    <tr>\n",
       "        <th>release_year</th>\n",
       "        <th>avg(duration)</th>\n",
       "    </tr>\n",
       "    <tr>\n",
       "        <td>None</td>\n",
       "        <td>77.4390243902439</td>\n",
       "    </tr>\n",
       "    <tr>\n",
       "        <td>1916</td>\n",
       "        <td>123.0</td>\n",
       "    </tr>\n",
       "    <tr>\n",
       "        <td>1920</td>\n",
       "        <td>110.0</td>\n",
       "    </tr>\n",
       "    <tr>\n",
       "        <td>1925</td>\n",
       "        <td>151.0</td>\n",
       "    </tr>\n",
       "    <tr>\n",
       "        <td>1927</td>\n",
       "        <td>145.0</td>\n",
       "    </tr>\n",
       "</table>"
      ],
      "text/plain": [
       "[(None, 77.4390243902439),\n",
       " (1916, 123.0),\n",
       " (1920, 110.0),\n",
       " (1925, 151.0),\n",
       " (1927, 145.0)]"
      ]
     },
     "execution_count": 103,
     "metadata": {},
     "output_type": "execute_result"
    }
   ],
   "source": [
    "%sql select release_year, avg(duration) from films group by release_year limit 5;"
   ]
  },
  {
   "cell_type": "markdown",
   "metadata": {},
   "source": [
    "Get the IMDB score and count of film reviews grouped by IMDB score in the reviews table."
   ]
  },
  {
   "cell_type": "code",
   "execution_count": 104,
   "metadata": {},
   "outputs": [
    {
     "name": "stdout",
     "output_type": "stream",
     "text": [
      " * sqlite:///imdb.db\n",
      "Done.\n"
     ]
    },
    {
     "data": {
      "text/html": [
       "<table>\n",
       "    <tr>\n",
       "        <th>id</th>\n",
       "        <th>film_id</th>\n",
       "        <th>num_user</th>\n",
       "        <th>num_critic</th>\n",
       "        <th>imdb_score</th>\n",
       "        <th>num_votes</th>\n",
       "        <th>facebook_likes</th>\n",
       "    </tr>\n",
       "    <tr>\n",
       "        <td>1</td>\n",
       "        <td>3934</td>\n",
       "        <td>588</td>\n",
       "        <td>432</td>\n",
       "        <td>7.1</td>\n",
       "        <td>203461</td>\n",
       "        <td>46000</td>\n",
       "    </tr>\n",
       "</table>"
      ],
      "text/plain": [
       "[(1, 3934, 588, 432, 7.1, 203461, 46000)]"
      ]
     },
     "execution_count": 104,
     "metadata": {},
     "output_type": "execute_result"
    }
   ],
   "source": [
    "%sql select * from reviews limit 1;"
   ]
  },
  {
   "cell_type": "code",
   "execution_count": 105,
   "metadata": {},
   "outputs": [
    {
     "name": "stdout",
     "output_type": "stream",
     "text": [
      " * sqlite:///imdb.db\n",
      "Done.\n"
     ]
    },
    {
     "data": {
      "text/html": [
       "<table>\n",
       "    <tr>\n",
       "        <th>imdb_score</th>\n",
       "        <th>count(*)</th>\n",
       "    </tr>\n",
       "    <tr>\n",
       "        <td>9.5</td>\n",
       "        <td>1</td>\n",
       "    </tr>\n",
       "    <tr>\n",
       "        <td>9.3</td>\n",
       "        <td>1</td>\n",
       "    </tr>\n",
       "    <tr>\n",
       "        <td>9.2</td>\n",
       "        <td>1</td>\n",
       "    </tr>\n",
       "    <tr>\n",
       "        <td>9.1</td>\n",
       "        <td>1</td>\n",
       "    </tr>\n",
       "    <tr>\n",
       "        <td>9.0</td>\n",
       "        <td>2</td>\n",
       "    </tr>\n",
       "</table>"
      ],
      "text/plain": [
       "[(9.5, 1), (9.3, 1), (9.2, 1), (9.1, 1), (9.0, 2)]"
      ]
     },
     "execution_count": 105,
     "metadata": {},
     "output_type": "execute_result"
    }
   ],
   "source": [
    "%sql select imdb_score, count(*) from reviews  group by imdb_score order by imdb_score desc limit 5;"
   ]
  },
  {
   "cell_type": "markdown",
   "metadata": {},
   "source": [
    "Get the country, release year, and lowest amount grossed per release year per country. Order your results by country and release year."
   ]
  },
  {
   "cell_type": "code",
   "execution_count": 106,
   "metadata": {},
   "outputs": [
    {
     "name": "stdout",
     "output_type": "stream",
     "text": [
      " * sqlite:///imdb.db\n",
      "Done.\n"
     ]
    },
    {
     "data": {
      "text/html": [
       "<table>\n",
       "    <tr>\n",
       "        <th>country</th>\n",
       "        <th>release_year</th>\n",
       "        <th>min(gross)</th>\n",
       "    </tr>\n",
       "    <tr>\n",
       "        <td>None</td>\n",
       "        <td>None</td>\n",
       "        <td>None</td>\n",
       "    </tr>\n",
       "    <tr>\n",
       "        <td>None</td>\n",
       "        <td>2014</td>\n",
       "        <td>None</td>\n",
       "    </tr>\n",
       "    <tr>\n",
       "        <td>Afghanistan</td>\n",
       "        <td>2003</td>\n",
       "        <td>1127331</td>\n",
       "    </tr>\n",
       "    <tr>\n",
       "        <td>Argentina</td>\n",
       "        <td>2000</td>\n",
       "        <td>1221261</td>\n",
       "    </tr>\n",
       "    <tr>\n",
       "        <td>Argentina</td>\n",
       "        <td>2004</td>\n",
       "        <td>304124</td>\n",
       "    </tr>\n",
       "</table>"
      ],
      "text/plain": [
       "[(None, None, None),\n",
       " (None, 2014, None),\n",
       " ('Afghanistan', 2003, 1127331),\n",
       " ('Argentina', 2000, 1221261),\n",
       " ('Argentina', 2004, 304124)]"
      ]
     },
     "execution_count": 106,
     "metadata": {},
     "output_type": "execute_result"
    }
   ],
   "source": [
    "%%sql \n",
    "select country,release_year, min(gross) from films\n",
    "group by country, release_year\n",
    "order by country, release_year\n",
    "limit 5;"
   ]
  },
  {
   "cell_type": "markdown",
   "metadata": {},
   "source": [
    "In SQL, aggregate functions can't be used in WHERE clauses - use having\n"
   ]
  },
  {
   "cell_type": "code",
   "execution_count": 107,
   "metadata": {},
   "outputs": [
    {
     "name": "stdout",
     "output_type": "stream",
     "text": [
      " * sqlite:///imdb.db\n",
      "Done.\n"
     ]
    },
    {
     "data": {
      "text/html": [
       "<table>\n",
       "    <tr>\n",
       "        <th>release_year</th>\n",
       "        <th>count(*)</th>\n",
       "    </tr>\n",
       "    <tr>\n",
       "        <td>None</td>\n",
       "        <td>84</td>\n",
       "    </tr>\n",
       "    <tr>\n",
       "        <td>1962</td>\n",
       "        <td>16</td>\n",
       "    </tr>\n",
       "    <tr>\n",
       "        <td>1963</td>\n",
       "        <td>16</td>\n",
       "    </tr>\n",
       "    <tr>\n",
       "        <td>1964</td>\n",
       "        <td>20</td>\n",
       "    </tr>\n",
       "    <tr>\n",
       "        <td>1965</td>\n",
       "        <td>14</td>\n",
       "    </tr>\n",
       "</table>"
      ],
      "text/plain": [
       "[(None, 84), (1962, 16), (1963, 16), (1964, 20), (1965, 14)]"
      ]
     },
     "execution_count": 107,
     "metadata": {},
     "output_type": "execute_result"
    }
   ],
   "source": [
    "%%sql \n",
    "SELECT release_year,count(*)\n",
    "FROM films\n",
    "GROUP BY release_year\n",
    "HAVING COUNT(title) > 10\n",
    "limit 5;"
   ]
  },
  {
   "cell_type": "markdown",
   "metadata": {},
   "source": [
    "Get the release year, budget and gross earnings for each film in the films table."
   ]
  },
  {
   "cell_type": "code",
   "execution_count": 108,
   "metadata": {},
   "outputs": [
    {
     "name": "stdout",
     "output_type": "stream",
     "text": [
      " * sqlite:///imdb.db\n",
      "Done.\n"
     ]
    },
    {
     "data": {
      "text/html": [
       "<table>\n",
       "    <tr>\n",
       "        <th>release_year</th>\n",
       "        <th>budget</th>\n",
       "        <th>gross</th>\n",
       "    </tr>\n",
       "    <tr>\n",
       "        <td>1916</td>\n",
       "        <td>385907</td>\n",
       "        <td>None</td>\n",
       "    </tr>\n",
       "    <tr>\n",
       "        <td>1920</td>\n",
       "        <td>100000</td>\n",
       "        <td>3000000</td>\n",
       "    </tr>\n",
       "    <tr>\n",
       "        <td>1925</td>\n",
       "        <td>245000</td>\n",
       "        <td>None</td>\n",
       "    </tr>\n",
       "    <tr>\n",
       "        <td>1927</td>\n",
       "        <td>6000000</td>\n",
       "        <td>26435</td>\n",
       "    </tr>\n",
       "    <tr>\n",
       "        <td>1929</td>\n",
       "        <td>None</td>\n",
       "        <td>9950</td>\n",
       "    </tr>\n",
       "</table>"
      ],
      "text/plain": [
       "[(1916, 385907, None),\n",
       " (1920, 100000, 3000000),\n",
       " (1925, 245000, None),\n",
       " (1927, 6000000, 26435),\n",
       " (1929, None, 9950)]"
      ]
     },
     "execution_count": 108,
     "metadata": {},
     "output_type": "execute_result"
    }
   ],
   "source": [
    "%sql select release_year, budget, gross from films limit 5;"
   ]
  },
  {
   "cell_type": "markdown",
   "metadata": {},
   "source": [
    "only records with a release_year after 1990 are included"
   ]
  },
  {
   "cell_type": "code",
   "execution_count": 109,
   "metadata": {},
   "outputs": [
    {
     "name": "stdout",
     "output_type": "stream",
     "text": [
      " * sqlite:///imdb.db\n",
      "Done.\n"
     ]
    },
    {
     "data": {
      "text/html": [
       "<table>\n",
       "    <tr>\n",
       "        <th>release_year</th>\n",
       "        <th>budget</th>\n",
       "        <th>gross</th>\n",
       "    </tr>\n",
       "    <tr>\n",
       "        <td>1991</td>\n",
       "        <td>6000000</td>\n",
       "        <td>869325</td>\n",
       "    </tr>\n",
       "    <tr>\n",
       "        <td>1991</td>\n",
       "        <td>20000000</td>\n",
       "        <td>38037513</td>\n",
       "    </tr>\n",
       "    <tr>\n",
       "        <td>1991</td>\n",
       "        <td>6000000</td>\n",
       "        <td>57504069</td>\n",
       "    </tr>\n",
       "    <tr>\n",
       "        <td>1991</td>\n",
       "        <td>35000000</td>\n",
       "        <td>79100000</td>\n",
       "    </tr>\n",
       "    <tr>\n",
       "        <td>1991</td>\n",
       "        <td>15000000</td>\n",
       "        <td>30102717</td>\n",
       "    </tr>\n",
       "</table>"
      ],
      "text/plain": [
       "[(1991, 6000000, 869325),\n",
       " (1991, 20000000, 38037513),\n",
       " (1991, 6000000, 57504069),\n",
       " (1991, 35000000, 79100000),\n",
       " (1991, 15000000, 30102717)]"
      ]
     },
     "execution_count": 109,
     "metadata": {},
     "output_type": "execute_result"
    }
   ],
   "source": [
    "%sql select release_year, budget, gross from films where release_year > 1990 limit 5;"
   ]
  },
  {
   "cell_type": "markdown",
   "metadata": {},
   "source": [
    "Remove the budget and gross columns, and group your results by release year."
   ]
  },
  {
   "cell_type": "code",
   "execution_count": 110,
   "metadata": {},
   "outputs": [
    {
     "name": "stdout",
     "output_type": "stream",
     "text": [
      " * sqlite:///imdb.db\n",
      "Done.\n"
     ]
    },
    {
     "data": {
      "text/html": [
       "<table>\n",
       "    <tr>\n",
       "        <th>release_year</th>\n",
       "    </tr>\n",
       "    <tr>\n",
       "        <td>1991</td>\n",
       "    </tr>\n",
       "    <tr>\n",
       "        <td>1992</td>\n",
       "    </tr>\n",
       "    <tr>\n",
       "        <td>1993</td>\n",
       "    </tr>\n",
       "    <tr>\n",
       "        <td>1994</td>\n",
       "    </tr>\n",
       "    <tr>\n",
       "        <td>1995</td>\n",
       "    </tr>\n",
       "</table>"
      ],
      "text/plain": [
       "[(1991,), (1992,), (1993,), (1994,), (1995,)]"
      ]
     },
     "execution_count": 110,
     "metadata": {},
     "output_type": "execute_result"
    }
   ],
   "source": [
    "%sql select release_year from films where release_year > 1990 group by release_year limit 5;"
   ]
  },
  {
   "cell_type": "markdown",
   "metadata": {},
   "source": [
    "Modify your query to include the average budget and average gross earnings for the results you have so far. Alias the average budget as avg_budget; alias the average gross earnings as avg_gross"
   ]
  },
  {
   "cell_type": "code",
   "execution_count": 111,
   "metadata": {},
   "outputs": [
    {
     "name": "stdout",
     "output_type": "stream",
     "text": [
      " * sqlite:///imdb.db\n",
      "Done.\n"
     ]
    },
    {
     "data": {
      "text/html": [
       "<table>\n",
       "    <tr>\n",
       "        <th>release_year</th>\n",
       "        <th>avg_budget</th>\n",
       "        <th>avg_gross</th>\n",
       "    </tr>\n",
       "    <tr>\n",
       "        <td>1991</td>\n",
       "        <td>25176548.387096774</td>\n",
       "        <td>53844501.666666664</td>\n",
       "    </tr>\n",
       "    <tr>\n",
       "        <td>1992</td>\n",
       "        <td>25982030.303030305</td>\n",
       "        <td>63665195.14705882</td>\n",
       "    </tr>\n",
       "    <tr>\n",
       "        <td>1993</td>\n",
       "        <td>20729787.23404255</td>\n",
       "        <td>45302091.41304348</td>\n",
       "    </tr>\n",
       "    <tr>\n",
       "        <td>1994</td>\n",
       "        <td>29013773.58490566</td>\n",
       "        <td>59395666.16981132</td>\n",
       "    </tr>\n",
       "    <tr>\n",
       "        <td>1995</td>\n",
       "        <td>32775000.0</td>\n",
       "        <td>44909519.98550725</td>\n",
       "    </tr>\n",
       "</table>"
      ],
      "text/plain": [
       "[(1991, 25176548.387096774, 53844501.666666664),\n",
       " (1992, 25982030.303030305, 63665195.14705882),\n",
       " (1993, 20729787.23404255, 45302091.41304348),\n",
       " (1994, 29013773.58490566, 59395666.16981132),\n",
       " (1995, 32775000.0, 44909519.98550725)]"
      ]
     },
     "execution_count": 111,
     "metadata": {},
     "output_type": "execute_result"
    }
   ],
   "source": [
    "%%sql\n",
    "select release_year, avg(budget) as avg_budget, avg(gross) as avg_gross from films\n",
    "where release_year > 1990 group by release_year limit 5;"
   ]
  },
  {
   "cell_type": "markdown",
   "metadata": {},
   "source": [
    "Modify your query so that only years with an average budget of greater than $60 million are included."
   ]
  },
  {
   "cell_type": "code",
   "execution_count": 112,
   "metadata": {},
   "outputs": [
    {
     "name": "stdout",
     "output_type": "stream",
     "text": [
      " * sqlite:///imdb.db\n",
      "Done.\n"
     ]
    },
    {
     "data": {
      "text/html": [
       "<table>\n",
       "    <tr>\n",
       "        <th>release_year</th>\n",
       "        <th>avg_budget</th>\n",
       "        <th>avg_gross</th>\n",
       "    </tr>\n",
       "    <tr>\n",
       "        <td>2005</td>\n",
       "        <td>70323938.23152709</td>\n",
       "        <td>41159143.29064039</td>\n",
       "    </tr>\n",
       "    <tr>\n",
       "        <td>2006</td>\n",
       "        <td>93968929.57746479</td>\n",
       "        <td>39237855.9537037</td>\n",
       "    </tr>\n",
       "</table>"
      ],
      "text/plain": [
       "[(2005, 70323938.23152709, 41159143.29064039),\n",
       " (2006, 93968929.57746479, 39237855.9537037)]"
      ]
     },
     "execution_count": 112,
     "metadata": {},
     "output_type": "execute_result"
    }
   ],
   "source": [
    "%%sql\n",
    "select release_year, avg(budget) as avg_budget, avg(gross) as avg_gross from films\n",
    "where release_year > 1990 group by release_year having avg(budget) > 60000000 limit 5;"
   ]
  },
  {
   "cell_type": "code",
   "execution_count": null,
   "metadata": {},
   "outputs": [],
   "source": []
  }
 ],
 "metadata": {
  "kernelspec": {
   "display_name": "Python 3",
   "language": "python",
   "name": "python3"
  },
  "language_info": {
   "codemirror_mode": {
    "name": "ipython",
    "version": 3
   },
   "file_extension": ".py",
   "mimetype": "text/x-python",
   "name": "python",
   "nbconvert_exporter": "python",
   "pygments_lexer": "ipython3",
   "version": "3.5.6"
  }
 },
 "nbformat": 4,
 "nbformat_minor": 2
}
